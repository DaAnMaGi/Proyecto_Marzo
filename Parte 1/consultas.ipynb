{
 "cells": [
  {
   "cell_type": "markdown",
   "metadata": {},
   "source": [
    "# Consultas descriptivas del modelo"
   ]
  },
  {
   "cell_type": "markdown",
   "metadata": {},
   "source": [
    "## Importación de librerías necesarias"
   ]
  },
  {
   "cell_type": "code",
   "execution_count": 1,
   "metadata": {},
   "outputs": [],
   "source": [
    "import pandas as pd"
   ]
  },
  {
   "cell_type": "markdown",
   "metadata": {},
   "source": [
    "## Importación de bases de datos"
   ]
  },
  {
   "cell_type": "code",
   "execution_count": 2,
   "metadata": {},
   "outputs": [],
   "source": [
    "# Games\n",
    "games = pd.read_parquet(\"../Data/final/games_final.parquet\")\n",
    "# Reviews\n",
    "reviews = pd.read_parquet(\"../Data/final/reviews_final.parquet\")\n",
    "# Items\n",
    "items = pd.read_parquet(\"../Data/final/items_final.parquet\")"
   ]
  },
  {
   "cell_type": "markdown",
   "metadata": {},
   "source": [
    "## Creación de consultas"
   ]
  },
  {
   "cell_type": "markdown",
   "metadata": {},
   "source": [
    "### PlayTimeGenre\n",
    "\n",
    "def PlayTimeGenre( genero : str ): Debe devolver año con mas horas jugadas para dicho género.\n",
    "Ejemplo de retorno: {\"Año de lanzamiento con más horas jugadas para Género X\" : 2013}"
   ]
  },
  {
   "cell_type": "code",
   "execution_count": 84,
   "metadata": {},
   "outputs": [],
   "source": [
    "# Se define la función PlayTimeGenre\n",
    "def PlayTimeGenre(genero:str):\n",
    "    try:\n",
    "        # Se obtiene la base de juegos y se extraen los géneros por juego a través de un explode.\n",
    "        g = games.explode(\"genres\")\n",
    "        # Se obtienen únicamente los juegos del género especificado.\n",
    "        g = g[g[\"genres\"] == genero]\n",
    "        # Se obtiene la sumatoria de horas jugadas por juego a partir del dataframe de items.\n",
    "        i = items.groupby(\"item_id\")[\"playtime_forever\"].sum()\n",
    "        # Se obtiene un dataframe con las horas por juego y el año de lanzamiento.\n",
    "        s = pd.merge(g,i,how = \"inner\",left_on=\"id\",right_on=\"item_id\")\n",
    "        # Se agrupan las horas jugadas por año de lanzamiento.\n",
    "        s = s.groupby(s[\"release_date\"].dt.year)[\"playtime_forever\"].sum()\n",
    "\n",
    "        # se obtiene el año con más horas jugadas.\n",
    "        año = s.idxmax()\n",
    "        \n",
    "        # Se genera la respuesta.\n",
    "        respuesta = {f\"Año de lanzamiento con más horas jugadas para el género {genero}\":año}\n",
    "\n",
    "        return respuesta\n",
    "    # Se crea una excepción para los casos en donde el género señalado no esté en la base de datos.\n",
    "    except Exception:\n",
    "        return {\"No se encontraron datos para el género referenciado\"}\n"
   ]
  },
  {
   "cell_type": "code",
   "execution_count": 4,
   "metadata": {},
   "outputs": [
    {
     "data": {
      "text/plain": [
       "{'Año de lanzamiento con más horas jugadas para el género Action': 2012}"
      ]
     },
     "execution_count": 4,
     "metadata": {},
     "output_type": "execute_result"
    }
   ],
   "source": [
    "# Se prueba la fórmula\n",
    "genero = \"Action\"\n",
    "PlayTimeGenre(genero)"
   ]
  },
  {
   "cell_type": "code",
   "execution_count": 5,
   "metadata": {},
   "outputs": [
    {
     "data": {
      "text/plain": [
       "{'Año de lanzamiento con más horas jugadas para el género Free to Play': 2013}"
      ]
     },
     "execution_count": 5,
     "metadata": {},
     "output_type": "execute_result"
    }
   ],
   "source": [
    "# Se prueba la fórmula\n",
    "genero = \"Free to Play\"\n",
    "PlayTimeGenre(genero)"
   ]
  },
  {
   "cell_type": "code",
   "execution_count": 6,
   "metadata": {},
   "outputs": [
    {
     "data": {
      "text/plain": [
       "{'Año de lanzamiento con más horas jugadas para el género RPG': 2011}"
      ]
     },
     "execution_count": 6,
     "metadata": {},
     "output_type": "execute_result"
    }
   ],
   "source": [
    "# Se prueba la fórmula\n",
    "genero = \"RPG\"\n",
    "PlayTimeGenre(genero)"
   ]
  },
  {
   "cell_type": "markdown",
   "metadata": {},
   "source": [
    "### UserForGenre\n",
    "\n",
    "def UserForGenre( genero : str ): Debe devolver el usuario que acumula más horas jugadas para el género dado y una lista de la acumulación de horas jugadas por año.\n",
    "Ejemplo de retorno: {\"Usuario con más horas jugadas para Género X\" : us213ndjss09sdf, \"Horas jugadas\":[{Año: 2013, Horas: 203}, {Año: 2012, Horas: 100}, {Año: 2011, Horas: 23}]}"
   ]
  },
  {
   "cell_type": "code",
   "execution_count": 83,
   "metadata": {},
   "outputs": [],
   "source": [
    "# Se define la función UserForGenre\n",
    "def UserForGenre(genero:str):\n",
    "    try:\n",
    "        # Se obtiene la base de juegos y se extraen los géneros por juego a través de un explode.\n",
    "        g = games.explode(\"genres\")\n",
    "        # Se obtienen únicamente los juegos del género especificado.\n",
    "        g = g[g[\"genres\"] == genero][[\"release_date\",\"id\"]]\n",
    "        # Se obtiene la lista de id de juegos del género especificado.\n",
    "        juegos = list(g[\"id\"].unique())\n",
    "        # Se obtienen los juegos de los usuarios que cumplen con la condición del género.\n",
    "        i = items[items[\"item_id\"].isin(juegos)]\n",
    "        # Se unen en un mismo dataframe el año de lanzamiento y las horas jugadas. Se decide usar el año de lanzamiento como referencia para los juegos utilizados. Si bien esto no es garantía de que efectivamente haya jugado el juego en esta fecha, nos sirve como referencia más amplia de años que los datos en review.\n",
    "        i = pd.merge(i,g,how=\"inner\",left_on=\"item_id\",right_on=\"id\")\n",
    "        # Se obtienen la sumatoria de horas por usuario.\n",
    "        i = i.groupby([\"user_id\",i[\"release_date\"].dt.year])[\"playtime_forever\"].sum()\n",
    "        # Se obtiene el id del jugador con más horas.\n",
    "        player = i.idxmax()[0]\n",
    "        # Se obtiene la información para el jugador identificado.\n",
    "        player_data = i.loc[player]\n",
    "\n",
    "        # Se estructura la respuesta: \n",
    "        response_data = {\n",
    "            f\"Usuario con más horas jugadas para el género {genero}\":player,\n",
    "            \"Horas jugadas\": [{\"año\":year,\n",
    "                            \"horas\":playtime\n",
    "                            }\n",
    "                            for year,playtime in player_data.items()\n",
    "                            ]\n",
    "        }\n",
    "\n",
    "        return response_data\n",
    "    # Se crea una excepción para los casos en donde el género señalado no esté en la base de datos.\n",
    "    except Exception:\n",
    "        return {\"No se encontraron datos para el género referenciado\"}"
   ]
  },
  {
   "cell_type": "code",
   "execution_count": 33,
   "metadata": {},
   "outputs": [
    {
     "data": {
      "text/plain": [
       "{'Usuario con más horas jugadas para el género Action': 'shinomegami',\n",
       " 'Horas jugadas': [{'año': 1988, 'horas': 2.27},\n",
       "  {'año': 1995, 'horas': 0.03},\n",
       "  {'año': 1996, 'horas': 19.35},\n",
       "  {'año': 1997, 'horas': 1.65},\n",
       "  {'año': 1998, 'horas': 61.93},\n",
       "  {'año': 1999, 'horas': 5.06},\n",
       "  {'año': 2000, 'horas': 179.59},\n",
       "  {'año': 2001, 'horas': 40.49},\n",
       "  {'año': 2003, 'horas': 8879.26},\n",
       "  {'año': 2004, 'horas': 20.42},\n",
       "  {'año': 2005, 'horas': 5.71},\n",
       "  {'año': 2006, 'horas': 36.339999999999996},\n",
       "  {'año': 2007, 'horas': 1140.42},\n",
       "  {'año': 2008, 'horas': 3.0},\n",
       "  {'año': 2009, 'horas': 3553.7599999999998},\n",
       "  {'año': 2010, 'horas': 159.8},\n",
       "  {'año': 2011, 'horas': 2611.6400000000003},\n",
       "  {'año': 2012, 'horas': 346.39},\n",
       "  {'año': 2013, 'horas': 2772.99},\n",
       "  {'año': 2014, 'horas': 3013.1499999999996},\n",
       "  {'año': 2015, 'horas': 2772.44},\n",
       "  {'año': 2016, 'horas': 712.5},\n",
       "  {'año': 2017, 'horas': 2.25}]}"
      ]
     },
     "execution_count": 33,
     "metadata": {},
     "output_type": "execute_result"
    }
   ],
   "source": [
    "# Se prueba la función.\n",
    "genero = \"Action\"\n",
    "UserForGenre(genero)"
   ]
  },
  {
   "cell_type": "code",
   "execution_count": 34,
   "metadata": {},
   "outputs": [
    {
     "data": {
      "text/plain": [
       "{'Usuario con más horas jugadas para el género Free to Play': 'idonothack',\n",
       " 'Horas jugadas': [{'año': 2006, 'horas': 0.3},\n",
       "  {'año': 2011, 'horas': 0.13},\n",
       "  {'año': 2012, 'horas': 29.9},\n",
       "  {'año': 2013, 'horas': 498.57},\n",
       "  {'año': 2014, 'horas': 16.57},\n",
       "  {'año': 2015, 'horas': 12617.07},\n",
       "  {'año': 2016, 'horas': 269.43},\n",
       "  {'año': 2017, 'horas': 38.7}]}"
      ]
     },
     "execution_count": 34,
     "metadata": {},
     "output_type": "execute_result"
    }
   ],
   "source": [
    "# Se prueba la función.\n",
    "genero = \"Free to Play\"\n",
    "UserForGenre(genero)"
   ]
  },
  {
   "cell_type": "code",
   "execution_count": 35,
   "metadata": {},
   "outputs": [
    {
     "data": {
      "text/plain": [
       "{'Usuario con más horas jugadas para el género RPG': 'shinomegami',\n",
       " 'Horas jugadas': [{'año': 1999, 'horas': 6.289999999999999},\n",
       "  {'año': 2003, 'horas': 8849.050000000001},\n",
       "  {'año': 2004, 'horas': 11.6},\n",
       "  {'año': 2005, 'horas': 3.08},\n",
       "  {'año': 2006, 'horas': 33.72},\n",
       "  {'año': 2007, 'horas': 2250.34},\n",
       "  {'año': 2008, 'horas': 21.75},\n",
       "  {'año': 2009, 'horas': 23.03},\n",
       "  {'año': 2010, 'horas': 690.12},\n",
       "  {'año': 2011, 'horas': 295.89},\n",
       "  {'año': 2012, 'horas': 213.64},\n",
       "  {'año': 2013, 'horas': 1796.2299999999998},\n",
       "  {'año': 2014, 'horas': 1365.6499999999999},\n",
       "  {'año': 2015, 'horas': 1856.97},\n",
       "  {'año': 2016, 'horas': 259.17}]}"
      ]
     },
     "execution_count": 35,
     "metadata": {},
     "output_type": "execute_result"
    }
   ],
   "source": [
    "# Se prueba la función.\n",
    "genero = \"RPG\"\n",
    "UserForGenre(genero)"
   ]
  },
  {
   "cell_type": "markdown",
   "metadata": {},
   "source": [
    "### UsersRecommend\n",
    "def UsersRecommend( año : int ): Devuelve el top 3 de juegos MÁS recomendados por usuarios para el año dado. (reviews.recommend = True y comentarios positivos/neutrales)\n",
    "Ejemplo de retorno: [{\"Puesto 1\" : X}, {\"Puesto 2\" : Y},{\"Puesto 3\" : Z}]"
   ]
  },
  {
   "cell_type": "code",
   "execution_count": 78,
   "metadata": {},
   "outputs": [],
   "source": [
    "# Se define la función UsersRecommend\n",
    "def UsersRecommend(año:int):\n",
    "    try:\n",
    "        # Se obtienen todos los juegos que tuvieron recomendaciones en el año especificado y cuentan con una recomendación positiva.\n",
    "        r = reviews[(reviews[\"posted\"].dt.year == año) & (reviews[\"recommend\"] == True) & (reviews[\"sentiment_analysis\"].isin([1,2]))][[\"item_id\",\"posted\",\"sentiment_analysis\"]]\n",
    "        # Se obtiene la sumatoria de favorabilidad del juego.\n",
    "        h = r.groupby(\"item_id\")[\"sentiment_analysis\"].sum()\n",
    "        # Se obtienen los tres juegos más recomendados.\n",
    "        recomendados = h.nlargest(3).reset_index()\n",
    "\n",
    "        # Se estructura la respuesta. \n",
    "        respuesta = {\n",
    "            \"Puesto 1\": games.loc[games[\"id\"] == recomendados.loc[0,\"item_id\"],\"app_name\"].iloc[0],\n",
    "            \"Puesto 2\": games.loc[games[\"id\"] == recomendados.loc[1,\"item_id\"],\"app_name\"].iloc[0],\n",
    "            \"Puesto 3\": games.loc[games[\"id\"] == recomendados.loc[2,\"item_id\"],\"app_name\"].iloc[0],\n",
    "        }\n",
    "\n",
    "        return respuesta\n",
    "    \n",
    "    # Se crea una excepción para los casos en donde el año señalado no esté en la base de datos.\n",
    "    except Exception as e:\n",
    "        return {\"No se encontraron datos para el año indicado\"}"
   ]
  },
  {
   "cell_type": "code",
   "execution_count": 76,
   "metadata": {},
   "outputs": [
    {
     "data": {
      "text/plain": [
       "{'Puesto 1': 'Counter-Strike: Global Offensive',\n",
       " 'Puesto 2': 'Team Fortress 2',\n",
       " 'Puesto 3': \"Garry's Mod\"}"
      ]
     },
     "execution_count": 76,
     "metadata": {},
     "output_type": "execute_result"
    }
   ],
   "source": [
    "# Se prueba la función\n",
    "año = 2015\n",
    "UsersRecommend(año)"
   ]
  },
  {
   "cell_type": "code",
   "execution_count": 79,
   "metadata": {},
   "outputs": [
    {
     "data": {
      "text/plain": [
       "{'No se encontraron datos para el año indicado'}"
      ]
     },
     "execution_count": 79,
     "metadata": {},
     "output_type": "execute_result"
    }
   ],
   "source": [
    "# Se prueba la función\n",
    "año = 2016\n",
    "UsersRecommend(año)"
   ]
  },
  {
   "cell_type": "code",
   "execution_count": 80,
   "metadata": {},
   "outputs": [
    {
     "data": {
      "text/plain": [
       "{'Puesto 1': 'Team Fortress 2',\n",
       " 'Puesto 2': \"Garry's Mod\",\n",
       " 'Puesto 3': 'Left 4 Dead 2'}"
      ]
     },
     "execution_count": 80,
     "metadata": {},
     "output_type": "execute_result"
    }
   ],
   "source": [
    "# Se prueba la función\n",
    "año = 2013\n",
    "UsersRecommend(año)"
   ]
  },
  {
   "cell_type": "code",
   "execution_count": 81,
   "metadata": {},
   "outputs": [
    {
     "data": {
      "text/plain": [
       "{'Puesto 1': 'Team Fortress 2',\n",
       " 'Puesto 2': 'Counter-Strike: Global Offensive',\n",
       " 'Puesto 3': \"Garry's Mod\"}"
      ]
     },
     "execution_count": 81,
     "metadata": {},
     "output_type": "execute_result"
    }
   ],
   "source": [
    "# Se prueba la función\n",
    "año = 2014\n",
    "UsersRecommend(año)"
   ]
  },
  {
   "cell_type": "markdown",
   "metadata": {},
   "source": [
    "### UsersNotRecommend\n",
    "def UsersNotRecommend( año : int ): Devuelve el top 3 de juegos MENOS recomendados por usuarios para el año dado. (reviews.recommend = False y comentarios negativos)\n",
    "Ejemplo de retorno: [{\"Puesto 1\" : X}, {\"Puesto 2\" : Y},{\"Puesto 3\" : Z}]"
   ]
  },
  {
   "cell_type": "code",
   "execution_count": 88,
   "metadata": {},
   "outputs": [],
   "source": [
    "# Se define la función UsersNotRecommend\n",
    "def UsersNotRecommend(año:int):\n",
    "    try:\n",
    "        # Se obtienen todos los juegos que tuvieron recomendaciones en el año especificado y cuentan con una recomendación negativa.\n",
    "        r = reviews[(reviews[\"posted\"].dt.year == año) & (reviews[\"recommend\"] == False) & (reviews[\"sentiment_analysis\"] == 0)][[\"item_id\",\"posted\",\"sentiment_analysis\"]]\n",
    "        # Se obtiene el número de recomendaciones negativas del juego.\n",
    "        h = r.groupby(\"item_id\")[\"sentiment_analysis\"].count()\n",
    "        # Se obtienen los tres juegos menos recomendados.\n",
    "        recomendados = h.nlargest(3).reset_index()\n",
    "\n",
    "        # Se estructura la respuesta. \n",
    "        respuesta = {\n",
    "            \"Puesto 1\": games.loc[games[\"id\"] == recomendados.loc[0,\"item_id\"],\"app_name\"].iloc[0],\n",
    "            \"Puesto 2\": games.loc[games[\"id\"] == recomendados.loc[1,\"item_id\"],\"app_name\"].iloc[0],\n",
    "            \"Puesto 3\": games.loc[games[\"id\"] == recomendados.loc[2,\"item_id\"],\"app_name\"].iloc[0],\n",
    "        }\n",
    "\n",
    "        return respuesta\n",
    "    \n",
    "    # Se crea una excepción para los casos en donde el año señalado no esté en la base de datos.\n",
    "    except Exception:\n",
    "        return {\"No se encontraron datos para el año especificado\"}"
   ]
  },
  {
   "cell_type": "code",
   "execution_count": 89,
   "metadata": {},
   "outputs": [
    {
     "data": {
      "text/plain": [
       "{'Puesto 1': 'Counter-Strike: Global Offensive',\n",
       " 'Puesto 2': 'Rust',\n",
       " 'Puesto 3': 'DayZ'}"
      ]
     },
     "execution_count": 89,
     "metadata": {},
     "output_type": "execute_result"
    }
   ],
   "source": [
    "# Se prueba la función\n",
    "año = 2015\n",
    "UsersNotRecommend(año)"
   ]
  },
  {
   "cell_type": "code",
   "execution_count": 90,
   "metadata": {},
   "outputs": [
    {
     "data": {
      "text/plain": [
       "{'Puesto 1': 'And Yet It Moves',\n",
       " 'Puesto 2': 'From Dust',\n",
       " 'Puesto 3': 'Men of War: Vietnam'}"
      ]
     },
     "execution_count": 90,
     "metadata": {},
     "output_type": "execute_result"
    }
   ],
   "source": [
    "# Se prueba la función\n",
    "año = 2011\n",
    "UsersNotRecommend(año)"
   ]
  },
  {
   "cell_type": "code",
   "execution_count": 91,
   "metadata": {},
   "outputs": [
    {
     "data": {
      "text/plain": [
       "{'No se encontraron datos para el año especificado'}"
      ]
     },
     "execution_count": 91,
     "metadata": {},
     "output_type": "execute_result"
    }
   ],
   "source": [
    "# Se prueba la función\n",
    "año = 2017\n",
    "UsersNotRecommend(año)"
   ]
  },
  {
   "cell_type": "markdown",
   "metadata": {},
   "source": [
    "### sentiment_analysis\n",
    "def sentiment_analysis( año : int ): Según el año de lanzamiento, se devuelve una lista con la cantidad de registros de reseñas de usuarios que se encuentren categorizados con un análisis de sentimiento.\n",
    "Ejemplo de retorno: {Negative = 182, Neutral = 120, Positive = 278}"
   ]
  },
  {
   "cell_type": "code",
   "execution_count": 92,
   "metadata": {},
   "outputs": [],
   "source": [
    "# Se define la función sentiment_analysis\n",
    "def sentiment_analysis(año:int):\n",
    "    try:\n",
    "        # Se obtienen todas las reseñas para el año especificado:\n",
    "        r = reviews[reviews[\"posted\"].dt.year == año]\n",
    "        # Se obtienen el número de comentario por cada categoria\n",
    "        r = r.groupby(\"sentiment_analysis\")[\"user_id\"].count()\n",
    "        # Se estructura la respuesta\n",
    "        respuesta = {\n",
    "        \"Negative\":r[0],\n",
    "        \"Neutral\":r[1],\n",
    "        \"Positive\":r[2]\n",
    "        }\n",
    "\n",
    "        return respuesta\n",
    "    # Se crea una excepción para los casos en donde el año señalado no esté en la base de datos.\n",
    "    except Exception:\n",
    "        return {\"No existen datos para el año referenciado\"}"
   ]
  },
  {
   "cell_type": "code",
   "execution_count": 93,
   "metadata": {},
   "outputs": [
    {
     "data": {
      "text/plain": [
       "{'Negative': 1012, 'Neutral': 4168, 'Positive': 8334}"
      ]
     },
     "execution_count": 93,
     "metadata": {},
     "output_type": "execute_result"
    }
   ],
   "source": [
    "# Se prueba la funcion\n",
    "año = 2014\n",
    "sentiment_analysis(año)"
   ]
  },
  {
   "cell_type": "code",
   "execution_count": 94,
   "metadata": {},
   "outputs": [
    {
     "data": {
      "text/plain": [
       "{'Negative': 1104, 'Neutral': 4113, 'Positive': 6639}"
      ]
     },
     "execution_count": 94,
     "metadata": {},
     "output_type": "execute_result"
    }
   ],
   "source": [
    "# Se prueba la funcion\n",
    "año = 2015\n",
    "sentiment_analysis(año)"
   ]
  },
  {
   "cell_type": "code",
   "execution_count": 95,
   "metadata": {},
   "outputs": [
    {
     "data": {
      "text/plain": [
       "{'Negative': 234, 'Neutral': 1205, 'Positive': 2670}"
      ]
     },
     "execution_count": 95,
     "metadata": {},
     "output_type": "execute_result"
    }
   ],
   "source": [
    "# Se prueba la funcion\n",
    "año = 2013\n",
    "sentiment_analysis(año)"
   ]
  },
  {
   "cell_type": "code",
   "execution_count": 96,
   "metadata": {},
   "outputs": [
    {
     "data": {
      "text/plain": [
       "{'No existen datos para el año referenciado'}"
      ]
     },
     "execution_count": 96,
     "metadata": {},
     "output_type": "execute_result"
    }
   ],
   "source": [
    "# Se prueba la funcion\n",
    "año = 2018\n",
    "sentiment_analysis(año)"
   ]
  }
 ],
 "metadata": {
  "kernelspec": {
   "display_name": "Python 3",
   "language": "python",
   "name": "python3"
  },
  "language_info": {
   "codemirror_mode": {
    "name": "ipython",
    "version": 3
   },
   "file_extension": ".py",
   "mimetype": "text/x-python",
   "name": "python",
   "nbconvert_exporter": "python",
   "pygments_lexer": "ipython3",
   "version": "3.11.8"
  }
 },
 "nbformat": 4,
 "nbformat_minor": 2
}
