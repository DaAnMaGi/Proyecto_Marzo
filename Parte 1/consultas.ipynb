{
 "cells": [
  {
   "cell_type": "markdown",
   "metadata": {},
   "source": [
    "# Consultas descriptivas del modelo"
   ]
  },
  {
   "cell_type": "markdown",
   "metadata": {},
   "source": [
    "## Importación de librerías necesarias"
   ]
  },
  {
   "cell_type": "code",
   "execution_count": 1,
   "metadata": {},
   "outputs": [],
   "source": [
    "import pandas as pd"
   ]
  },
  {
   "cell_type": "markdown",
   "metadata": {},
   "source": [
    "## Importación de bases de datos"
   ]
  },
  {
   "cell_type": "code",
   "execution_count": 117,
   "metadata": {},
   "outputs": [],
   "source": [
    "# Games\n",
    "games = pd.read_json(\"../Data/corregida/r_games.json.gzip\",compression=\"gzip\",convert_dates=['release_date'],date_unit=\"ms\")\n",
    "# Reviews\n",
    "reviews = pd.read_json(\"../Data/corregida/r_reviews.json.gzip\",compression=\"gzip\",convert_dates=[\"posted\"],date_unit=\"ms\")\n",
    "# Items\n",
    "items = pd.read_parquet(\"../Data/corregida/items.parquet.gzip\")"
   ]
  },
  {
   "cell_type": "markdown",
   "metadata": {},
   "source": [
    "## Creación de consultas"
   ]
  },
  {
   "cell_type": "markdown",
   "metadata": {},
   "source": [
    "### PlayTimeGenre\n",
    "\n",
    "def PlayTimeGenre( genero : str ): Debe devolver año con mas horas jugadas para dicho género.\n",
    "Ejemplo de retorno: {\"Año de lanzamiento con más horas jugadas para Género X\" : 2013}"
   ]
  },
  {
   "cell_type": "code",
   "execution_count": 50,
   "metadata": {},
   "outputs": [],
   "source": [
    "# Se define la función PlayTimeGenre\n",
    "def PlayTimeGenre(genero:str):\n",
    "    # Se obtiene la base de juegos y se extraen los géneros por juego a través de un explode.\n",
    "    g = games.explode(\"genres\")\n",
    "    # Se obtienen únicamente los juegos del género especificado.\n",
    "    g = g[g[\"genres\"] == genero]\n",
    "    # Se obtiene la sumatoria de horas jugadas por juego a partir del dataframe de items.\n",
    "    i = items.groupby(\"item_id\")[\"playtime_forever\"].sum()\n",
    "    # Se obtiene un dataframe con las horas por juego y el año de lanzamiento.\n",
    "    s = pd.merge(g,i,how = \"inner\",left_on=\"id\",right_on=\"item_id\")\n",
    "    # Se agrupan las horas jugadas por año de lanzamiento.\n",
    "    s = s.groupby(s[\"release_date\"].dt.year)[\"playtime_forever\"].sum()\n",
    "\n",
    "    # se obtiene el año con más horas jugadas.\n",
    "    año = s.idxmax()\n",
    "    \n",
    "    # Se genera la respuesta.\n",
    "    respuesta = {f\"Año de lanzamiento con más horas jugadas para el género {genero}\":año}\n",
    "\n",
    "    return respuesta\n"
   ]
  },
  {
   "cell_type": "code",
   "execution_count": 51,
   "metadata": {},
   "outputs": [
    {
     "data": {
      "text/plain": [
       "{'Año de lanzamiento con más horas jugadas para el género Action': 2012}"
      ]
     },
     "execution_count": 51,
     "metadata": {},
     "output_type": "execute_result"
    }
   ],
   "source": [
    "# Se prueba la fórmula\n",
    "genero = \"Action\"\n",
    "PlayTimeGenre(genero)"
   ]
  },
  {
   "cell_type": "code",
   "execution_count": 52,
   "metadata": {},
   "outputs": [
    {
     "data": {
      "text/plain": [
       "{'Año de lanzamiento con más horas jugadas para el género Free to Play': 2013}"
      ]
     },
     "execution_count": 52,
     "metadata": {},
     "output_type": "execute_result"
    }
   ],
   "source": [
    "# Se prueba la fórmula\n",
    "genero = \"Free to Play\"\n",
    "PlayTimeGenre(genero)"
   ]
  },
  {
   "cell_type": "code",
   "execution_count": 53,
   "metadata": {},
   "outputs": [
    {
     "data": {
      "text/plain": [
       "{'Año de lanzamiento con más horas jugadas para el género RPG': 2011}"
      ]
     },
     "execution_count": 53,
     "metadata": {},
     "output_type": "execute_result"
    }
   ],
   "source": [
    "# Se prueba la fórmula\n",
    "genero = \"RPG\"\n",
    "PlayTimeGenre(genero)"
   ]
  },
  {
   "cell_type": "markdown",
   "metadata": {},
   "source": [
    "### UserForGenre\n",
    "\n",
    "def UserForGenre( genero : str ): Debe devolver el usuario que acumula más horas jugadas para el género dado y una lista de la acumulación de horas jugadas por año.\n",
    "Ejemplo de retorno: {\"Usuario con más horas jugadas para Género X\" : us213ndjss09sdf, \"Horas jugadas\":[{Año: 2013, Horas: 203}, {Año: 2012, Horas: 100}, {Año: 2011, Horas: 23}]}"
   ]
  },
  {
   "cell_type": "code",
   "execution_count": 98,
   "metadata": {},
   "outputs": [],
   "source": [
    "# Se define la función UserForGenre\n",
    "def UserForGenre(genero:str):\n",
    "    # Se obtiene la base de juegos y se extraen los géneros por juego a través de un explode.\n",
    "    g = games.explode(\"genres\")\n",
    "    # Se obtienen únicamente los juegos del género especificado.\n",
    "    g = g[g[\"genres\"] == genero][[\"release_date\",\"id\"]]\n",
    "    # Se obtiene la lista de id de juegos del género especificado.\n",
    "    juegos = list(g[\"id\"].unique())\n",
    "    # Se obtienen los juegos de los usuarios que cumplen con la condición del género.\n",
    "    i = items[items[\"item_id\"].isin(juegos)]\n",
    "    # Se unen en un mismo dataframe el año de lanzamiento y las horas jugadas.\n",
    "    i = pd.merge(i,g,how=\"inner\",left_on=\"item_id\",right_on=\"id\")\n",
    "    # Se obtienen la sumatoria de horas por usuario.\n",
    "    i = i.groupby([\"user_id\",i[\"release_date\"].dt.year])[\"playtime_forever\"].sum()\n",
    "    # Se obtiene el id del jugador con más horas.\n",
    "    player = i.idxmax()[0]\n",
    "    # Se obtiene la información para el jugador identificado.\n",
    "    player_data = i.loc[player]\n",
    "\n",
    "    # Se estructura la respuesta: \n",
    "    response_data = {\n",
    "        f\"Usuario con más horas jugadas para el género {genero}\":player,\n",
    "        \"Horas jugadas\": [{\"año\":year,\n",
    "                        \"horas\":playtime\n",
    "                        }\n",
    "                        for year,playtime in player_data.items()\n",
    "                        ]\n",
    "    }\n",
    "\n",
    "    return response_data"
   ]
  },
  {
   "cell_type": "code",
   "execution_count": 99,
   "metadata": {},
   "outputs": [
    {
     "data": {
      "text/plain": [
       "{'Usuario con más horas jugadas para el género Action': 'shinomegami',\n",
       " 'Horas jugadas': [{'año': 1988, 'horas': 136},\n",
       "  {'año': 1990, 'horas': 0},\n",
       "  {'año': 1991, 'horas': 0},\n",
       "  {'año': 1992, 'horas': 0},\n",
       "  {'año': 1993, 'horas': 0},\n",
       "  {'año': 1994, 'horas': 0},\n",
       "  {'año': 1995, 'horas': 2},\n",
       "  {'año': 1996, 'horas': 1161},\n",
       "  {'año': 1997, 'horas': 99},\n",
       "  {'año': 1998, 'horas': 3716},\n",
       "  {'año': 1999, 'horas': 303},\n",
       "  {'año': 2000, 'horas': 10775},\n",
       "  {'año': 2001, 'horas': 2429},\n",
       "  {'año': 2002, 'horas': 0},\n",
       "  {'año': 2003, 'horas': 532756},\n",
       "  {'año': 2004, 'horas': 1225},\n",
       "  {'año': 2005, 'horas': 343},\n",
       "  {'año': 2006, 'horas': 2180},\n",
       "  {'año': 2007, 'horas': 68425},\n",
       "  {'año': 2008, 'horas': 180},\n",
       "  {'año': 2009, 'horas': 213225},\n",
       "  {'año': 2010, 'horas': 9588},\n",
       "  {'año': 2011, 'horas': 156697},\n",
       "  {'año': 2012, 'horas': 20782},\n",
       "  {'año': 2013, 'horas': 166380},\n",
       "  {'año': 2014, 'horas': 180793},\n",
       "  {'año': 2015, 'horas': 166348},\n",
       "  {'año': 2016, 'horas': 42750},\n",
       "  {'año': 2017, 'horas': 135}]}"
      ]
     },
     "execution_count": 99,
     "metadata": {},
     "output_type": "execute_result"
    }
   ],
   "source": [
    "# Se prueba la función.\n",
    "genero = \"Action\"\n",
    "UserForGenre(genero)"
   ]
  },
  {
   "cell_type": "code",
   "execution_count": 100,
   "metadata": {},
   "outputs": [
    {
     "data": {
      "text/plain": [
       "{'Usuario con más horas jugadas para el género Free to Play': 'idonothack',\n",
       " 'Horas jugadas': [{'año': 2003, 'horas': 0},\n",
       "  {'año': 2006, 'horas': 18},\n",
       "  {'año': 2010, 'horas': 0},\n",
       "  {'año': 2011, 'horas': 8},\n",
       "  {'año': 2012, 'horas': 1794},\n",
       "  {'año': 2013, 'horas': 29914},\n",
       "  {'año': 2014, 'horas': 994},\n",
       "  {'año': 2015, 'horas': 757025},\n",
       "  {'año': 2016, 'horas': 16166},\n",
       "  {'año': 2017, 'horas': 2322}]}"
      ]
     },
     "execution_count": 100,
     "metadata": {},
     "output_type": "execute_result"
    }
   ],
   "source": [
    "# Se prueba la función.\n",
    "genero = \"Free to Play\"\n",
    "UserForGenre(genero)"
   ]
  },
  {
   "cell_type": "code",
   "execution_count": 101,
   "metadata": {},
   "outputs": [
    {
     "data": {
      "text/plain": [
       "{'Usuario con más horas jugadas para el género RPG': 'shinomegami',\n",
       " 'Horas jugadas': [{'año': 1999, 'horas': 377},\n",
       "  {'año': 2000, 'horas': 0},\n",
       "  {'año': 2001, 'horas': 0},\n",
       "  {'año': 2002, 'horas': 0},\n",
       "  {'año': 2003, 'horas': 530943},\n",
       "  {'año': 2004, 'horas': 696},\n",
       "  {'año': 2005, 'horas': 185},\n",
       "  {'año': 2006, 'horas': 2023},\n",
       "  {'año': 2007, 'horas': 135020},\n",
       "  {'año': 2008, 'horas': 1305},\n",
       "  {'año': 2009, 'horas': 1382},\n",
       "  {'año': 2010, 'horas': 41407},\n",
       "  {'año': 2011, 'horas': 17752},\n",
       "  {'año': 2012, 'horas': 12819},\n",
       "  {'año': 2013, 'horas': 107775},\n",
       "  {'año': 2014, 'horas': 81939},\n",
       "  {'año': 2015, 'horas': 111419},\n",
       "  {'año': 2016, 'horas': 15550},\n",
       "  {'año': 2017, 'horas': 0}]}"
      ]
     },
     "execution_count": 101,
     "metadata": {},
     "output_type": "execute_result"
    }
   ],
   "source": [
    "# Se prueba la función.\n",
    "genero = \"RPG\"\n",
    "UserForGenre(genero)"
   ]
  },
  {
   "cell_type": "markdown",
   "metadata": {},
   "source": [
    "### UsersRecommend\n",
    "def UsersRecommend( año : int ): Devuelve el top 3 de juegos MÁS recomendados por usuarios para el año dado. (reviews.recommend = True y comentarios positivos/neutrales)\n",
    "Ejemplo de retorno: [{\"Puesto 1\" : X}, {\"Puesto 2\" : Y},{\"Puesto 3\" : Z}]"
   ]
  },
  {
   "cell_type": "code",
   "execution_count": 161,
   "metadata": {},
   "outputs": [],
   "source": [
    "# Se define la función UsersRecommend\n",
    "def UsersRecommend(año:int):\n",
    "    # Se obtienen todos los juegos que tuvieron lanzamiento en el año especificado.\n",
    "    g = games[games[\"release_date\"].dt.year == año][[\"id\",\"app_name\"]]\n",
    "    # Se obtienen los ID de los juegos \n",
    "    juegos = list(g[\"id\"].unique())\n",
    "    # Se obtienen los juegos con recomendación positiva para el año especificado. \n",
    "    r = reviews[reviews[\"item_id\"].isin(juegos) & reviews[\"recommend\"] == True & reviews[\"sentiment_analysis\"].isin([1,2])][[\"item_id\",\"recommend\",\"sentiment_analysis\"]]\n",
    "    # Se obtiene la sumatoria de favorabilidad del juego.\n",
    "    h = r.groupby(\"item_id\")[\"sentiment_analysis\"].sum()\n",
    "    # Se unen los dataframes.\n",
    "    g = pd.merge(g,h,how=\"inner\",left_on=\"id\",right_on=\"item_id\")\n",
    "    # Se obtienen los tres juegos más recomendados.\n",
    "    recomendados = g.nlargest(3,\"sentiment_analysis\")\n",
    "    # Se estructura la respuesta. \n",
    "    respuesta = {\n",
    "        \"Puesto 1\":recomendados.iloc[0][\"app_name\"],\n",
    "        \"Puesto 2\":recomendados.iloc[1][\"app_name\"],\n",
    "        \"Puesto 3\":recomendados.iloc[2][\"app_name\"]\n",
    "    }\n",
    "\n",
    "    return respuesta"
   ]
  },
  {
   "cell_type": "code",
   "execution_count": 162,
   "metadata": {},
   "outputs": [
    {
     "data": {
      "text/plain": [
       "{'Puesto 1': 'Rocket League®',\n",
       " 'Puesto 2': 'Grand Theft Auto V',\n",
       " 'Puesto 3': 'Undertale'}"
      ]
     },
     "execution_count": 162,
     "metadata": {},
     "output_type": "execute_result"
    }
   ],
   "source": [
    "# Se prueba la función\n",
    "año = 2015\n",
    "UsersRecommend(año)"
   ]
  },
  {
   "cell_type": "code",
   "execution_count": 163,
   "metadata": {},
   "outputs": [
    {
     "data": {
      "text/plain": [
       "{'Puesto 1': 'Starbound',\n",
       " 'Puesto 2': 'Heroes & Generals',\n",
       " 'Puesto 3': \"Don't Starve Together\"}"
      ]
     },
     "execution_count": 163,
     "metadata": {},
     "output_type": "execute_result"
    }
   ],
   "source": [
    "# Se prueba la función\n",
    "año = 2016\n",
    "UsersRecommend(año)"
   ]
  },
  {
   "cell_type": "code",
   "execution_count": 167,
   "metadata": {},
   "outputs": [
    {
     "data": {
      "text/plain": [
       "{'Puesto 1': 'Rust', 'Puesto 2': 'DayZ', 'Puesto 3': 'Warframe'}"
      ]
     },
     "execution_count": 167,
     "metadata": {},
     "output_type": "execute_result"
    }
   ],
   "source": [
    "# Se prueba la función\n",
    "año = 2013\n",
    "UsersRecommend(año)"
   ]
  },
  {
   "cell_type": "markdown",
   "metadata": {},
   "source": [
    "### UsersNotRecommend\n",
    "def UsersNotRecommend( año : int ): Devuelve el top 3 de juegos MENOS recomendados por usuarios para el año dado. (reviews.recommend = False y comentarios negativos)\n",
    "Ejemplo de retorno: [{\"Puesto 1\" : X}, {\"Puesto 2\" : Y},{\"Puesto 3\" : Z}]"
   ]
  },
  {
   "cell_type": "code",
   "execution_count": 181,
   "metadata": {},
   "outputs": [],
   "source": [
    "# Se define la función UsersNotRecommend\n",
    "def UsersNotRecommend(año:int):\n",
    "    # Se obtienen todos los juegos que tuvieron lanzamiento en el año especificado.\n",
    "    g = games[games[\"release_date\"].dt.year == año][[\"id\",\"app_name\"]]\n",
    "    # Se obtienen los ID de los juegos \n",
    "    juegos = list(g[\"id\"].unique())\n",
    "    # Se obtienen los juegos con recomendación negativa para el año especificado. \n",
    "    r = reviews[(reviews[\"item_id\"].isin(juegos)) & (reviews[\"recommend\"] == False) & (reviews[\"sentiment_analysis\"] == 0)][[\"item_id\",\"recommend\",\"sentiment_analysis\"]]\n",
    "    # Se obtiene el número de veces que el juego no fue recomendado.\n",
    "    h = r.groupby(\"item_id\")[\"sentiment_analysis\"].count()\n",
    "    # Se unen los dataframes.\n",
    "    g = pd.merge(g,h,how=\"inner\",left_on=\"id\",right_on=\"item_id\")\n",
    "    # Se obtienen los tres juegos menos recomendados.\n",
    "    no_recomendados = g.nlargest(3,\"sentiment_analysis\")\n",
    "    # Se estructura la respuesta. \n",
    "    respuesta = {\n",
    "        \"Puesto 1\":no_recomendados.iloc[0][\"app_name\"],\n",
    "        \"Puesto 2\":no_recomendados.iloc[1][\"app_name\"],\n",
    "        \"Puesto 3\":no_recomendados.iloc[2][\"app_name\"]\n",
    "    }\n",
    "\n",
    "    return respuesta"
   ]
  },
  {
   "cell_type": "code",
   "execution_count": 182,
   "metadata": {},
   "outputs": [
    {
     "data": {
      "text/plain": [
       "{'Puesto 1': 'Call of Duty®: Black Ops III',\n",
       " 'Puesto 2': 'Mortal Kombat X',\n",
       " 'Puesto 3': 'Dirty Bomb®'}"
      ]
     },
     "execution_count": 182,
     "metadata": {},
     "output_type": "execute_result"
    }
   ],
   "source": [
    "# Se prueba la función\n",
    "año = 2015\n",
    "UsersNotRecommend(año)"
   ]
  },
  {
   "cell_type": "code",
   "execution_count": 183,
   "metadata": {},
   "outputs": [
    {
     "data": {
      "text/plain": [
       "{'Puesto 1': 'APB Reloaded',\n",
       " 'Puesto 2': 'No More Room in Hell',\n",
       " 'Puesto 3': 'Terraria'}"
      ]
     },
     "execution_count": 183,
     "metadata": {},
     "output_type": "execute_result"
    }
   ],
   "source": [
    "# Se prueba la función\n",
    "año = 2011\n",
    "UsersNotRecommend(año)"
   ]
  },
  {
   "cell_type": "code",
   "execution_count": 184,
   "metadata": {},
   "outputs": [
    {
     "data": {
      "text/plain": [
       "{'Puesto 1': 'Unturned',\n",
       " 'Puesto 2': 'Robocraft',\n",
       " 'Puesto 3': 'ARK: Survival Evolved'}"
      ]
     },
     "execution_count": 184,
     "metadata": {},
     "output_type": "execute_result"
    }
   ],
   "source": [
    "# Se prueba la función\n",
    "año = 2017\n",
    "UsersNotRecommend(año)"
   ]
  },
  {
   "cell_type": "markdown",
   "metadata": {},
   "source": [
    "### sentiment_analysis\n",
    "def sentiment_analysis( año : int ): Según el año de lanzamiento, se devuelve una lista con la cantidad de registros de reseñas de usuarios que se encuentren categorizados con un análisis de sentimiento.\n",
    "Ejemplo de retorno: {Negative = 182, Neutral = 120, Positive = 278}"
   ]
  },
  {
   "cell_type": "code",
   "execution_count": 214,
   "metadata": {},
   "outputs": [],
   "source": [
    "# Se define la función sentiment_analysis\n",
    "def sentiment_analysis(año:int):\n",
    "    # Se obtienen todas las reseñas para el año especificado:\n",
    "    r = reviews[reviews[\"posted\"].dt.year == año]\n",
    "    # Se obtienen el número de comentario por cada categoria\n",
    "    r = r.groupby(\"sentiment_analysis\")[\"user_id\"].count()\n",
    "    # Se estructura la respuesta\n",
    "    respuesta = {\n",
    "    \"Negative\":r[0],\n",
    "    \"Neutral\":r[1],\n",
    "    \"Positive\":r[2]\n",
    "    }\n",
    "\n",
    "    return respuesta"
   ]
  },
  {
   "cell_type": "code",
   "execution_count": 215,
   "metadata": {},
   "outputs": [
    {
     "data": {
      "text/plain": [
       "{'Negative': 1256, 'Neutral': 5023, 'Positive': 9847}"
      ]
     },
     "execution_count": 215,
     "metadata": {},
     "output_type": "execute_result"
    }
   ],
   "source": [
    "# Se prueba la funcion\n",
    "año = 2014\n",
    "sentiment_analysis(año)"
   ]
  },
  {
   "cell_type": "code",
   "execution_count": 216,
   "metadata": {},
   "outputs": [
    {
     "data": {
      "text/plain": [
       "{'Negative': 1312, 'Neutral': 4897, 'Positive': 7708}"
      ]
     },
     "execution_count": 216,
     "metadata": {},
     "output_type": "execute_result"
    }
   ],
   "source": [
    "# Se prueba la funcion\n",
    "año = 2015\n",
    "sentiment_analysis(año)"
   ]
  },
  {
   "cell_type": "code",
   "execution_count": 217,
   "metadata": {},
   "outputs": [
    {
     "data": {
      "text/plain": [
       "{'Negative': 281, 'Neutral': 1447, 'Positive': 3143}"
      ]
     },
     "execution_count": 217,
     "metadata": {},
     "output_type": "execute_result"
    }
   ],
   "source": [
    "# Se prueba la funcion\n",
    "año = 2013\n",
    "sentiment_analysis(año)"
   ]
  }
 ],
 "metadata": {
  "kernelspec": {
   "display_name": "Python 3",
   "language": "python",
   "name": "python3"
  },
  "language_info": {
   "codemirror_mode": {
    "name": "ipython",
    "version": 3
   },
   "file_extension": ".py",
   "mimetype": "text/x-python",
   "name": "python",
   "nbconvert_exporter": "python",
   "pygments_lexer": "ipython3",
   "version": "3.11.8"
  }
 },
 "nbformat": 4,
 "nbformat_minor": 2
}
