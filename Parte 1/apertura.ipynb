{
 "cells": [
  {
   "cell_type": "markdown",
   "metadata": {},
   "source": [
    "# Cargue de información"
   ]
  },
  {
   "cell_type": "markdown",
   "metadata": {},
   "source": [
    "## Bibliotecas"
   ]
  },
  {
   "cell_type": "code",
   "execution_count": 10,
   "metadata": {},
   "outputs": [],
   "source": [
    "# Descarga de las bibliotecas a utilizar\n",
    "\n",
    "#%pip install nltk\n",
    "#%pip install googletrans==4.0.0-rc1\n",
    "#%pip install regex\n",
    "#%pip install unidecode\n",
    "#%pip install langdetect"
   ]
  },
  {
   "cell_type": "code",
   "execution_count": 2,
   "metadata": {},
   "outputs": [],
   "source": [
    "# Importación de las bibliotecas a utilizar\n",
    "import pandas as pd\n",
    "from dateutil import parser\n",
    "import gzip\n",
    "import json\n",
    "from pandas import json_normalize\n",
    "import unicodedata\n",
    "\n",
    "from langdetect import detect, LangDetectException\n",
    "\n",
    "import regex\n",
    "import re\n",
    "import nltk\n",
    "from nltk.sentiment import SentimentIntensityAnalyzer"
   ]
  },
  {
   "cell_type": "code",
   "execution_count": 3,
   "metadata": {},
   "outputs": [
    {
     "name": "stdout",
     "output_type": "stream",
     "text": [
      "showing info https://raw.githubusercontent.com/nltk/nltk_data/gh-pages/index.xml\n"
     ]
    },
    {
     "data": {
      "text/plain": [
       "True"
      ]
     },
     "execution_count": 3,
     "metadata": {},
     "output_type": "execute_result"
    }
   ],
   "source": [
    "# nltk.download()"
   ]
  },
  {
   "cell_type": "markdown",
   "metadata": {},
   "source": [
    "## Bases de datos - Rutas"
   ]
  },
  {
   "cell_type": "code",
   "execution_count": 4,
   "metadata": {},
   "outputs": [],
   "source": [
    "# Se obtienen las rutas de los archivos\n",
    "ruta_games = \"../Data/originales/steam_games.json.gz\"\n",
    "ruta_reviews = \"../Data/originales/user_reviews.json.gz\"\n",
    "ruta_items = \"../Data/originales/users_items.json.gz\""
   ]
  },
  {
   "cell_type": "markdown",
   "metadata": {},
   "source": [
    "## Funciones generales"
   ]
  },
  {
   "cell_type": "code",
   "execution_count": 65,
   "metadata": {},
   "outputs": [],
   "source": [
    "# Se crea una función que abre los archivos json dañados y regresa una lista con los datos transformados.\n",
    "def abrir_json_corrupto(ruta):\n",
    "    '''A partir de la ruta de un archivo json corrupto comprimido en formato gzip, \n",
    "    abre el archivo y hace una limpieza de las líneas para acercarlas a un formato json'''\n",
    "    # Abre el archivo JSON.GZIP para descomprimirlo y convertirlo en una lista.\n",
    "    with gzip.open(ruta,\"rt\",encoding=\"utf-8\", errors=\"replace\") as archivo_original:\n",
    "        lineas_items = archivo_original.readlines()\n",
    "\n",
    "    # Se crea una lista donde se guardarán las líneas corregidas.\n",
    "    data = []\n",
    "\n",
    "    # Se revisa línea por línea y se reemplazan los datos que impiden que el JSON sea válido\n",
    "    for linea in lineas_items:\n",
    "        linea = linea.replace('\"',\"'\")\n",
    "        linea = linea.replace(\"True\",\"true\").replace(\"False\",\"false\")\n",
    "        # linea = linea.replace(\"\\': \\'\",'\": \"').replace(\"\\', \\'\",'\", \"').replace(\"\\': [{\\'\", '\": [{\"').replace(\"\\': true, \\'\", '\": true, \"').replace(\"\\': false, \\'\",'\": false, \"')\n",
    "        linea = linea.replace(\"\\':\",'\":').replace(\", \\'\", ', \"').replace(\"{\\'\", '{\"').replace(\": \\'\",': \"').replace(\"\\',\",'\",')\n",
    "        #linea = linea.replace(\"\\'}\",'\"}').replace(\"\\\\\\'\",\"'\").replace(\"{\\'\", '{\"').replace(\"': []\",'\": []')\n",
    "        linea = linea.replace(\"\\'}\",'\"}').replace(\"\\\\\\'\",\"'\")\n",
    "        linea = linea.strip('\\n').strip(\"'\")\n",
    "\n",
    "        data.append(linea)\n",
    "\n",
    "    # Se regresa la lista de las líneas después de la corrección realizada.\n",
    "    return data"
   ]
  },
  {
   "cell_type": "code",
   "execution_count": 6,
   "metadata": {},
   "outputs": [],
   "source": [
    "# Se crea una función con el propósito de verificar que los elementos sean json válidos\n",
    "def es_json_valido(cadena):\n",
    "    '''A partir de una cadena de texto, revisa si el elemento es json válido.'''\n",
    "    try:\n",
    "        json.loads(cadena)\n",
    "        return True\n",
    "    except ValueError:\n",
    "        return False\n",
    "\n",
    "# Se crea una función para validar la data de las listas de los elementos json transformados.\n",
    "def validar_data(data):\n",
    "    '''Valida la data de una lista, separando elementos json válidos de aquellos que no lo son.'''\n",
    "    # Se crean las listas donde se guardaran los elementos separados.\n",
    "    no_validos = []\n",
    "    validos = []\n",
    "\n",
    "    for elemento in data:\n",
    "        if es_json_valido(elemento) == False:\n",
    "            no_validos.append(elemento)\n",
    "        else: validos.append(elemento)\n",
    "\n",
    "    # Se imprime el número de elementos JSON no válidos\n",
    "    print(f\"EL total de elementos JSON no válidos de la data fue {len(no_validos)} de {len(data)} lo que equivale al {round((len(no_validos)/len(data)) * 100,2)} %\")\n",
    "\n",
    "    # Regresa la lista de datos válidos.\n",
    "    return validos\n"
   ]
  },
  {
   "cell_type": "code",
   "execution_count": 7,
   "metadata": {},
   "outputs": [],
   "source": [
    "# Se crea una función para cargar los elementos JSON corregidos a un dataframe de pandas.\n",
    "\n",
    "def cargar_json_corregido(data):\n",
    "    '''Toma una lista de elementos en formato JSON y los convierte a un dataframe de pandas'''\n",
    "    #Convertir cada elemento de la lista a un diccionario\n",
    "    diccionario = [json.loads(elemento) for elemento in data]\n",
    "\n",
    "    # Combinar los diccionarios en uno solo\n",
    "    data_json = json.dumps(diccionario, indent=2)\n",
    "    \n",
    "    # Se convierten a un dataframe de pandas.\n",
    "    n_data = pd.read_json(data_json)\n",
    "\n",
    "    return n_data\n"
   ]
  },
  {
   "cell_type": "code",
   "execution_count": 8,
   "metadata": {},
   "outputs": [],
   "source": [
    "# Se define una función para revisar que los datos de las fechas sean válidos:\n",
    "def es_fecha(fecha):\n",
    "    try:\n",
    "        n_fecha = parser.parse(fecha)\n",
    "        return n_fecha\n",
    "    except ValueError:\n",
    "        return None"
   ]
  },
  {
   "cell_type": "code",
   "execution_count": 9,
   "metadata": {},
   "outputs": [],
   "source": [
    "# Se crea una función para guardar los nuevos archivos\n",
    "\n",
    "def guardar_archivo(DataFrame,RutaNuevoArchivo):\n",
    "  ''' Convierte un Dataframe dado en json y lo comprime en formato gzip'''\n",
    "  # Toma el dataframe dado y lo convierte en un archivo json.\n",
    "  archivo_json = DataFrame.to_json()\n",
    "  # Comprime el archivo json en formato gzip.\n",
    "  with gzip.open(RutaNuevoArchivo, \"w\") as f:\n",
    "    f.write(archivo_json.encode('utf-8'))"
   ]
  },
  {
   "cell_type": "markdown",
   "metadata": {},
   "source": [
    "# Apertura y revisión de las bases de datos"
   ]
  },
  {
   "cell_type": "markdown",
   "metadata": {},
   "source": [
    "Información necesaria para las consultas: \n",
    "- Año y horas jugadas por juego y género del juego.\n",
    "- Horas jugadas por usuario, género y años en los que jugó.\n",
    "- Recomendaciones por juego (recommend y comentarios)\n",
    "- Año y número de comentarios positivos, negativos o neutrales."
   ]
  },
  {
   "cell_type": "markdown",
   "metadata": {},
   "source": [
    "## Games"
   ]
  },
  {
   "cell_type": "code",
   "execution_count": 15,
   "metadata": {},
   "outputs": [
    {
     "data": {
      "text/html": [
       "<div>\n",
       "<style scoped>\n",
       "    .dataframe tbody tr th:only-of-type {\n",
       "        vertical-align: middle;\n",
       "    }\n",
       "\n",
       "    .dataframe tbody tr th {\n",
       "        vertical-align: top;\n",
       "    }\n",
       "\n",
       "    .dataframe thead th {\n",
       "        text-align: right;\n",
       "    }\n",
       "</style>\n",
       "<table border=\"1\" class=\"dataframe\">\n",
       "  <thead>\n",
       "    <tr style=\"text-align: right;\">\n",
       "      <th></th>\n",
       "      <th>publisher</th>\n",
       "      <th>genres</th>\n",
       "      <th>app_name</th>\n",
       "      <th>title</th>\n",
       "      <th>url</th>\n",
       "      <th>release_date</th>\n",
       "      <th>tags</th>\n",
       "      <th>reviews_url</th>\n",
       "      <th>specs</th>\n",
       "      <th>price</th>\n",
       "      <th>early_access</th>\n",
       "      <th>id</th>\n",
       "      <th>developer</th>\n",
       "    </tr>\n",
       "  </thead>\n",
       "  <tbody>\n",
       "    <tr>\n",
       "      <th>0</th>\n",
       "      <td>None</td>\n",
       "      <td>None</td>\n",
       "      <td>None</td>\n",
       "      <td>None</td>\n",
       "      <td>None</td>\n",
       "      <td>None</td>\n",
       "      <td>None</td>\n",
       "      <td>None</td>\n",
       "      <td>None</td>\n",
       "      <td>None</td>\n",
       "      <td>NaN</td>\n",
       "      <td>NaN</td>\n",
       "      <td>None</td>\n",
       "    </tr>\n",
       "    <tr>\n",
       "      <th>1</th>\n",
       "      <td>None</td>\n",
       "      <td>None</td>\n",
       "      <td>None</td>\n",
       "      <td>None</td>\n",
       "      <td>None</td>\n",
       "      <td>None</td>\n",
       "      <td>None</td>\n",
       "      <td>None</td>\n",
       "      <td>None</td>\n",
       "      <td>None</td>\n",
       "      <td>NaN</td>\n",
       "      <td>NaN</td>\n",
       "      <td>None</td>\n",
       "    </tr>\n",
       "    <tr>\n",
       "      <th>2</th>\n",
       "      <td>None</td>\n",
       "      <td>None</td>\n",
       "      <td>None</td>\n",
       "      <td>None</td>\n",
       "      <td>None</td>\n",
       "      <td>None</td>\n",
       "      <td>None</td>\n",
       "      <td>None</td>\n",
       "      <td>None</td>\n",
       "      <td>None</td>\n",
       "      <td>NaN</td>\n",
       "      <td>NaN</td>\n",
       "      <td>None</td>\n",
       "    </tr>\n",
       "    <tr>\n",
       "      <th>3</th>\n",
       "      <td>None</td>\n",
       "      <td>None</td>\n",
       "      <td>None</td>\n",
       "      <td>None</td>\n",
       "      <td>None</td>\n",
       "      <td>None</td>\n",
       "      <td>None</td>\n",
       "      <td>None</td>\n",
       "      <td>None</td>\n",
       "      <td>None</td>\n",
       "      <td>NaN</td>\n",
       "      <td>NaN</td>\n",
       "      <td>None</td>\n",
       "    </tr>\n",
       "    <tr>\n",
       "      <th>4</th>\n",
       "      <td>None</td>\n",
       "      <td>None</td>\n",
       "      <td>None</td>\n",
       "      <td>None</td>\n",
       "      <td>None</td>\n",
       "      <td>None</td>\n",
       "      <td>None</td>\n",
       "      <td>None</td>\n",
       "      <td>None</td>\n",
       "      <td>None</td>\n",
       "      <td>NaN</td>\n",
       "      <td>NaN</td>\n",
       "      <td>None</td>\n",
       "    </tr>\n",
       "  </tbody>\n",
       "</table>\n",
       "</div>"
      ],
      "text/plain": [
       "  publisher genres app_name title   url release_date  tags reviews_url specs  \\\n",
       "0      None   None     None  None  None         None  None        None  None   \n",
       "1      None   None     None  None  None         None  None        None  None   \n",
       "2      None   None     None  None  None         None  None        None  None   \n",
       "3      None   None     None  None  None         None  None        None  None   \n",
       "4      None   None     None  None  None         None  None        None  None   \n",
       "\n",
       "  price  early_access  id developer  \n",
       "0  None           NaN NaN      None  \n",
       "1  None           NaN NaN      None  \n",
       "2  None           NaN NaN      None  \n",
       "3  None           NaN NaN      None  \n",
       "4  None           NaN NaN      None  "
      ]
     },
     "execution_count": 15,
     "metadata": {},
     "output_type": "execute_result"
    }
   ],
   "source": [
    "# Se abre el archivo de \"Steam Games\" y se convierte a un dataframe de pandas.\n",
    "games = pd.read_json(ruta_games,compression=\"gzip\",lines = True)\n",
    "# Se obtiene la visualización de los primeros datos de la base.\n",
    "games.head()"
   ]
  },
  {
   "cell_type": "code",
   "execution_count": 16,
   "metadata": {},
   "outputs": [],
   "source": [
    "# Se eliminan las filas cuyos datos sean todos nulos (ya que no nos proporcionan información sobre el juego).\n",
    "games.dropna(how = \"all\", inplace = True)"
   ]
  },
  {
   "cell_type": "code",
   "execution_count": 17,
   "metadata": {},
   "outputs": [],
   "source": [
    "# Se deciden eliminar las columnas \"publisher\", \"tags\",\"url\",\"reviews_url\",\"early_access\", \"title\",\"specs\",\"price\",\"developer\" ya que no proporcionan información relevante para las consultas a realizar o resulta redundante.\n",
    "games.drop(columns=[\"publisher\", \"tags\",\"url\",\"reviews_url\",\"early_access\",\"title\",\"specs\",\"price\",\"developer\"],inplace=True)"
   ]
  },
  {
   "cell_type": "code",
   "execution_count": 19,
   "metadata": {},
   "outputs": [],
   "source": [
    "# Se eliminan los valores vacíos de \"release_date\", ya que no nos proporcionan información relevante sobre el juego.\n",
    "games = games.dropna(subset=[\"release_date\"])"
   ]
  },
  {
   "cell_type": "code",
   "execution_count": 21,
   "metadata": {},
   "outputs": [],
   "source": [
    "# Se revisa que los datos restantes para la columna \"release_date\" sean fechas válidas dejando la información en una nueva columna llamada \"review_date\"\n",
    "games.insert(3,\"review_date\",games[\"release_date\"].apply(es_fecha))"
   ]
  },
  {
   "cell_type": "code",
   "execution_count": 23,
   "metadata": {},
   "outputs": [],
   "source": [
    "# Se elimina la columna de \"release_date\", se cambia el nombre de la nueva columna (\"review_date\") a \"release_date\" y se eliminan los datos nulos. \n",
    "games.drop(columns=\"release_date\",inplace=True)\n",
    "games.rename(columns={\"review_date\":\"release_date\"},inplace=True)\n",
    "games.dropna(subset=[\"release_date\"],inplace=True)"
   ]
  },
  {
   "cell_type": "code",
   "execution_count": 26,
   "metadata": {},
   "outputs": [],
   "source": [
    "# Se eliminan los valores nulos de id.\n",
    "games.dropna(subset=[\"id\"],inplace=True)"
   ]
  },
  {
   "cell_type": "code",
   "execution_count": 28,
   "metadata": {},
   "outputs": [],
   "source": [
    "# Se transforman los valores de id a entero\n",
    "games[\"id\"] = games[\"id\"].astype(int)"
   ]
  },
  {
   "cell_type": "code",
   "execution_count": 30,
   "metadata": {},
   "outputs": [],
   "source": [
    "# Se deciden eliminar todos los valores nulos de \"genres\"\n",
    "games.dropna(subset=[\"genres\"],inplace=True)"
   ]
  },
  {
   "cell_type": "code",
   "execution_count": 32,
   "metadata": {},
   "outputs": [],
   "source": [
    "# Se aseguran que los datos estén en los formatos adecuados\n",
    "games[\"release_date\"] = pd.to_datetime(games[\"release_date\"])\n",
    "games[\"id\"] = games[\"id\"].astype(int)"
   ]
  },
  {
   "cell_type": "code",
   "execution_count": 33,
   "metadata": {},
   "outputs": [
    {
     "name": "stdout",
     "output_type": "stream",
     "text": [
      "<class 'pandas.core.frame.DataFrame'>\n",
      "Index: 28660 entries, 88310 to 120443\n",
      "Data columns (total 4 columns):\n",
      " #   Column        Non-Null Count  Dtype         \n",
      "---  ------        --------------  -----         \n",
      " 0   genres        28660 non-null  object        \n",
      " 1   app_name      28659 non-null  object        \n",
      " 2   release_date  28660 non-null  datetime64[ns]\n",
      " 3   id            28660 non-null  int32         \n",
      "dtypes: datetime64[ns](1), int32(1), object(2)\n",
      "memory usage: 1007.6+ KB\n"
     ]
    }
   ],
   "source": [
    "# Se revisa la información obtenida.\n",
    "games.info()"
   ]
  },
  {
   "cell_type": "code",
   "execution_count": 31,
   "metadata": {},
   "outputs": [
    {
     "data": {
      "text/html": [
       "<div>\n",
       "<style scoped>\n",
       "    .dataframe tbody tr th:only-of-type {\n",
       "        vertical-align: middle;\n",
       "    }\n",
       "\n",
       "    .dataframe tbody tr th {\n",
       "        vertical-align: top;\n",
       "    }\n",
       "\n",
       "    .dataframe thead th {\n",
       "        text-align: right;\n",
       "    }\n",
       "</style>\n",
       "<table border=\"1\" class=\"dataframe\">\n",
       "  <thead>\n",
       "    <tr style=\"text-align: right;\">\n",
       "      <th></th>\n",
       "      <th>genres</th>\n",
       "      <th>app_name</th>\n",
       "      <th>release_date</th>\n",
       "      <th>id</th>\n",
       "    </tr>\n",
       "  </thead>\n",
       "  <tbody>\n",
       "    <tr>\n",
       "      <th>88310</th>\n",
       "      <td>[Action, Casual, Indie, Simulation, Strategy]</td>\n",
       "      <td>Lost Summoner Kitty</td>\n",
       "      <td>2018-01-04</td>\n",
       "      <td>761140</td>\n",
       "    </tr>\n",
       "    <tr>\n",
       "      <th>88311</th>\n",
       "      <td>[Free to Play, Indie, RPG, Strategy]</td>\n",
       "      <td>Ironbound</td>\n",
       "      <td>2018-01-04</td>\n",
       "      <td>643980</td>\n",
       "    </tr>\n",
       "    <tr>\n",
       "      <th>88312</th>\n",
       "      <td>[Casual, Free to Play, Indie, Simulation, Sports]</td>\n",
       "      <td>Real Pool 3D - Poolians</td>\n",
       "      <td>2017-07-24</td>\n",
       "      <td>670290</td>\n",
       "    </tr>\n",
       "    <tr>\n",
       "      <th>88313</th>\n",
       "      <td>[Action, Adventure, Casual]</td>\n",
       "      <td>弹炸人2222</td>\n",
       "      <td>2017-12-07</td>\n",
       "      <td>767400</td>\n",
       "    </tr>\n",
       "    <tr>\n",
       "      <th>88315</th>\n",
       "      <td>[Action, Adventure, Simulation]</td>\n",
       "      <td>Battle Royale Trainer</td>\n",
       "      <td>2018-01-04</td>\n",
       "      <td>772540</td>\n",
       "    </tr>\n",
       "  </tbody>\n",
       "</table>\n",
       "</div>"
      ],
      "text/plain": [
       "                                                  genres  \\\n",
       "88310      [Action, Casual, Indie, Simulation, Strategy]   \n",
       "88311               [Free to Play, Indie, RPG, Strategy]   \n",
       "88312  [Casual, Free to Play, Indie, Simulation, Sports]   \n",
       "88313                        [Action, Adventure, Casual]   \n",
       "88315                    [Action, Adventure, Simulation]   \n",
       "\n",
       "                      app_name release_date      id  \n",
       "88310      Lost Summoner Kitty   2018-01-04  761140  \n",
       "88311                Ironbound   2018-01-04  643980  \n",
       "88312  Real Pool 3D - Poolians   2017-07-24  670290  \n",
       "88313                  弹炸人2222   2017-12-07  767400  \n",
       "88315    Battle Royale Trainer   2018-01-04  772540  "
      ]
     },
     "execution_count": 31,
     "metadata": {},
     "output_type": "execute_result"
    }
   ],
   "source": [
    "# Se observa el dataframe obtenido.\n",
    "games.head()"
   ]
  },
  {
   "cell_type": "code",
   "execution_count": 35,
   "metadata": {},
   "outputs": [],
   "source": [
    "# Se guarda la base de datos corregida\n",
    "guardar_archivo(games,\"../Data/corregida/r_games.json.gzip\")"
   ]
  },
  {
   "cell_type": "code",
   "execution_count": 37,
   "metadata": {},
   "outputs": [
    {
     "data": {
      "text/html": [
       "<div>\n",
       "<style scoped>\n",
       "    .dataframe tbody tr th:only-of-type {\n",
       "        vertical-align: middle;\n",
       "    }\n",
       "\n",
       "    .dataframe tbody tr th {\n",
       "        vertical-align: top;\n",
       "    }\n",
       "\n",
       "    .dataframe thead th {\n",
       "        text-align: right;\n",
       "    }\n",
       "</style>\n",
       "<table border=\"1\" class=\"dataframe\">\n",
       "  <thead>\n",
       "    <tr style=\"text-align: right;\">\n",
       "      <th></th>\n",
       "      <th>genres</th>\n",
       "      <th>app_name</th>\n",
       "      <th>release_date</th>\n",
       "      <th>id</th>\n",
       "    </tr>\n",
       "  </thead>\n",
       "  <tbody>\n",
       "    <tr>\n",
       "      <th>88310</th>\n",
       "      <td>[Action, Casual, Indie, Simulation, Strategy]</td>\n",
       "      <td>Lost Summoner Kitty</td>\n",
       "      <td>2018-01-04</td>\n",
       "      <td>761140</td>\n",
       "    </tr>\n",
       "    <tr>\n",
       "      <th>88311</th>\n",
       "      <td>[Free to Play, Indie, RPG, Strategy]</td>\n",
       "      <td>Ironbound</td>\n",
       "      <td>2018-01-04</td>\n",
       "      <td>643980</td>\n",
       "    </tr>\n",
       "    <tr>\n",
       "      <th>88312</th>\n",
       "      <td>[Casual, Free to Play, Indie, Simulation, Sports]</td>\n",
       "      <td>Real Pool 3D - Poolians</td>\n",
       "      <td>2017-07-24</td>\n",
       "      <td>670290</td>\n",
       "    </tr>\n",
       "    <tr>\n",
       "      <th>88313</th>\n",
       "      <td>[Action, Adventure, Casual]</td>\n",
       "      <td>弹炸人2222</td>\n",
       "      <td>2017-12-07</td>\n",
       "      <td>767400</td>\n",
       "    </tr>\n",
       "    <tr>\n",
       "      <th>88315</th>\n",
       "      <td>[Action, Adventure, Simulation]</td>\n",
       "      <td>Battle Royale Trainer</td>\n",
       "      <td>2018-01-04</td>\n",
       "      <td>772540</td>\n",
       "    </tr>\n",
       "  </tbody>\n",
       "</table>\n",
       "</div>"
      ],
      "text/plain": [
       "                                                  genres  \\\n",
       "88310      [Action, Casual, Indie, Simulation, Strategy]   \n",
       "88311               [Free to Play, Indie, RPG, Strategy]   \n",
       "88312  [Casual, Free to Play, Indie, Simulation, Sports]   \n",
       "88313                        [Action, Adventure, Casual]   \n",
       "88315                    [Action, Adventure, Simulation]   \n",
       "\n",
       "                      app_name release_date      id  \n",
       "88310      Lost Summoner Kitty   2018-01-04  761140  \n",
       "88311                Ironbound   2018-01-04  643980  \n",
       "88312  Real Pool 3D - Poolians   2017-07-24  670290  \n",
       "88313                  弹炸人2222   2017-12-07  767400  \n",
       "88315    Battle Royale Trainer   2018-01-04  772540  "
      ]
     },
     "execution_count": 37,
     "metadata": {},
     "output_type": "execute_result"
    }
   ],
   "source": [
    "# Se observa que el dataset cargue correctamente.\n",
    "games_n = pd.read_json(\"../Data/corregida/r_games.json.gzip\",compression=\"gzip\",convert_dates=['release_date'],date_unit=\"ms\")\n",
    "games_n.head()"
   ]
  },
  {
   "cell_type": "markdown",
   "metadata": {},
   "source": [
    "## Reviews"
   ]
  },
  {
   "cell_type": "markdown",
   "metadata": {},
   "source": [
    "### Limpieza bases de datos"
   ]
  },
  {
   "cell_type": "code",
   "execution_count": 66,
   "metadata": {},
   "outputs": [],
   "source": [
    "# Se abre el archivo de reviews con la función para abrir json corruptos.\n",
    "data_reviews = abrir_json_corrupto(ruta_reviews)"
   ]
  },
  {
   "cell_type": "code",
   "execution_count": 67,
   "metadata": {},
   "outputs": [
    {
     "name": "stdout",
     "output_type": "stream",
     "text": [
      "{\"user_id\": \"76561197970982479\", \"user_url\": \"http://steamcommunity.com/profiles/76561197970982479\", \"reviews\": [{\"funny\": \"\", \"posted\": \"Posted November 5, 2011.\", \"last_edited\": \"\", \"item_id\": \"1250\", \"helpful\": \"No ratings yet\", \"recommend\": true, \"review\": \"Simple yet with great replayability. In my opinion does 'zombie' hordes and team work better than left 4 dead plus has a global leveling system. Alot of down to earth 'zombie' splattering fun for the whole family. Amazed this sort of FPS is so rare.\"}, {\"funny\": \"\", \"posted\": \"Posted July 15, 2011.\", \"last_edited\": \"\", \"item_id\": \"22200\", \"helpful\": \"No ratings yet\", \"recommend\": true, \"review\": \"It's unique and worth a playthrough.\"}, {\"funny\": \"\", \"posted\": \"Posted April 21, 2011.\", \"last_edited\": \"\", \"item_id\": \"43110\", \"helpful\": \"No ratings yet\", \"recommend\": true, \"review\": \"Great atmosphere. The gunplay can be a bit chunky at times but at the end of the day this game is definitely worth it and I hope they do a sequel...so buy the game so I get a sequel!\"}]}\n",
      "{\"user_id\": \"js41637\", \"user_url\": \"http://steamcommunity.com/id/js41637\", \"reviews\": [{\"funny\": \"\", \"posted\": \"Posted June 24, 2014.\", \"last_edited\": \"\", \"item_id\": \"251610\", \"helpful\": \"15 of 20 people (75%) found this review helpful\", \"recommend\": true, \"review\": \"I know what you think when you see this title 'Barbie Dreamhouse Party' but do not be intimidated by it's title, this is easily one of my GOTYs. You don't get any of that cliche game mechanics that all the latest games have, this is simply good core gameplay. Yes, you can't 360 noscope your friends, but what you can do is show them up with your bad ♥♥♥ dance moves and put them to shame as you show them what true fashion and color combinations are.I know this game says for kids but, this is easily for any age range and any age will have a blast playing this.8/8\"}, {\"funny\": \"\", \"posted\": \"Posted September 8, 2013.\", \"last_edited\": \"\", \"item_id\": \"227300\", \"helpful\": \"0 of 1 people (0%) found this review helpful\", \"recommend\": true, \"review\": \"For a simple (it's actually not all that simple but it can be!) truck driving Simulator, it is quite a fun and relaxing game. Playing on simple (or easy?) its just the basic WASD keys for driving but (if you want) the game can be much harder and realistic with having to manually change gears, much harder turning, etc. And reversing in this game is a ♥♥♥♥♥, as I imagine it would be with an actual truck. Luckily, you don't have to reverse park it but you get extra points if you do cause it is bloody hard. But this is suprisingly a nice truck driving game and I had a bit of fun with it.\"}, {\"funny\": \"\", \"posted\": \"Posted November 29, 2013.\", \"last_edited\": \"\", \"item_id\": \"239030\", \"helpful\": \"1 of 4 people (25%) found this review helpful\", \"recommend\": true, \"review\": \"Very fun little game to play when your bored or as a time passer. Very gud. Do Recommend. pls buy\"}]}\n",
      "{\"user_id\": \"evcentric\", \"user_url\": \"http://steamcommunity.com/id/evcentric\", \"reviews\": [{\"funny\": \"\", \"posted\": \"Posted February 3.\", \"last_edited\": \"\", \"item_id\": \"248820\", \"helpful\": \"No ratings yet\", \"recommend\": true, \"review\": \"A suitably punishing roguelike platformer.  Winning feels good.  Progressive unlocks mean a good slog ending in failure doesn't feel like a waste.\"}, {\"funny\": \"\", \"posted\": \"Posted December 4, 2015.\", \"last_edited\": \"Last edited December 5, 2015.\", \"item_id\": \"370360\", \"helpful\": \"No ratings yet\", \"recommend\": true, \"review\": \"'Run for fun? What the hell kind of fun is that?'\"}, {\"funny\": \"\", \"posted\": \"Posted November 3, 2014.\", \"last_edited\": \"\", \"item_id\": \"237930\", \"helpful\": \"No ratings yet\", \"recommend\": true, \"review\": \"Elegant integration of gameplay, story, world development and aesthetic.\"}, {\"funny\": \"\", \"posted\": \"Posted October 15, 2014.\", \"last_edited\": \"\", \"item_id\": \"263360\", \"helpful\": \"No ratings yet\", \"recommend\": true, \"review\": \"Random drops and random quests, with stat points.  Animation style reminiscent of the era before the Voodoo card.\"}, {\"funny\": \"\", \"posted\": \"Posted October 15, 2014.\", \"last_edited\": \"\", \"item_id\": \"107200\", \"helpful\": \"No ratings yet\", \"recommend\": true, \"review\": \"Fun balance of tactics and strategy.  Potential for very rewarding battles on smaller maps.  Can become a bit of a grind on larger maps (>200 stars).\"}, {\"funny\": \"\", \"posted\": \"Posted October 15, 2014.\", \"last_edited\": \"\", \"item_id\": \"224500\", \"helpful\": \"No ratings yet\", \"recommend\": true, \"review\": \"Fun world builder, with plenty of option of how you want challenge served to you.  Gnome pathing sometimes frustrating if you expand very very quickly.\"}]}\n",
      "{\"user_id\": \"doctr\", \"user_url\": \"http://steamcommunity.com/id/doctr\", \"reviews\": [{\"funny\": \"\", \"posted\": \"Posted October 14, 2013.\", \"last_edited\": \"\", \"item_id\": \"250320\", \"helpful\": \"2 of 2 people (100%) found this review helpful\", \"recommend\": true, \"review\": \"This game... is so fun. The fight sequences have been improved from walking dead. It also includes more of a Sam and Max puzzle solving (some of it in the first episode) and walking dead. The game also gets even more better if you have read the Fables comic books, which are without a doubt, very good. The music is also superb and fit the scenarios very well.\"}, {\"funny\": \"\", \"posted\": \"Posted July 28, 2012.\", \"last_edited\": \"\", \"item_id\": \"20920\", \"helpful\": \"1 of 1 people (100%) found this review helpful\", \"recommend\": true, \"review\": \"Really Really Really Great Game, very good story, im in chapter 1 atm and i think its great. You get a really early link with characters. No need to play the first game, its nicely wrapped up for you in a five minute video. FYI beware of the sex scenes :P, nudity does happen in the game and it shows you actually having sex, so try not to play with your parents around if your near a point in the story. Also you will need a good rig/comp to play on high. Don't even try running the game on Ultra unless you have mulitiple GPU's (Graphics card) and ram and a good processor. All in all good game :D\"}, {\"funny\": \"\", \"posted\": \"Posted June 2, 2012.\", \"last_edited\": \"\", \"item_id\": \"204100\", \"helpful\": \"1 of 1 people (100%) found this review helpful\", \"recommend\": true, \"review\": \"Just buy it already. Great Story, Great Multiplayer and good fan service. Just awesome game. Just using shootdodge and bullet time makes you feel like a badass. Also, its better if you get the max payne story recapped or replay the first two but its not necessary.\"}, {\"funny\": \"\", \"posted\": \"Posted June 29, 2014.\", \"last_edited\": \"\", \"item_id\": \"224600\", \"helpful\": \"1 of 2 people (50%) found this review helpful\", \"recommend\": true, \"review\": \"It was a great game from what I played, right now I need to find the actual download.\"}, {\"funny\": \"\", \"posted\": \"Posted November 22, 2012.\", \"last_edited\": \"\", \"item_id\": \"207610\", \"helpful\": \"No ratings yet\", \"recommend\": true, \"review\": \"The ending to this game is.... ♥♥♥♥♥♥♥.... Just buy it, you'll be invested, im automatically preordering season two of the walking dead game.\"}, {\"funny\": \"\", \"posted\": \"Posted February 23, 2012.\", \"last_edited\": \"\", \"item_id\": \"108710\", \"helpful\": \"No ratings yet\", \"recommend\": true, \"review\": \"Alan wake is a really good game, the light effects are pretty awesome and this game is so good, it paid back remedy their promotion and conversion fees in the first two days on steam. Its awesome :D. Remedy can still make video games, even if its not Max Payne. It is also very character driven.\"}]}\n",
      "{\"user_id\": \"maplemage\", \"user_url\": \"http://steamcommunity.com/id/maplemage\", \"reviews\": [{\"funny\": \"3 people found this review funny\", \"posted\": \"Posted April 15, 2014.\", \"last_edited\": \"\", \"item_id\": \"211420\", \"helpful\": \"35 of 43 people (81%) found this review helpful\", \"recommend\": true, \"review\": \"Git gud\"}, {\"funny\": \"1 person found this review funny\", \"posted\": \"Posted December 23, 2013.\", \"last_edited\": \"\", \"item_id\": \"211820\", \"helpful\": \"12 of 16 people (75%) found this review helpful\", \"recommend\": true, \"review\": \"It's like Terraria, you play for 9 hours straight, get endgame armour then stop playing until the next update.\"}, {\"funny\": \"2 people found this review funny\", \"posted\": \"Posted March 14, 2014.\", \"last_edited\": \"\", \"item_id\": \"730\", \"helpful\": \"5 of 5 people (100%) found this review helpful\", \"recommend\": true, \"review\": \"Hold shift to win, Hold CTRL to lose.\"}, {\"funny\": \"\", \"posted\": \"Posted July 11, 2013.\", \"last_edited\": \"\", \"item_id\": \"204300\", \"helpful\": \"No ratings yet\", \"recommend\": true, \"review\": \"OH YES, THIS GAME IS THE BEST, THEY ADD STUFF LIKE NEW CHARACTERS, AND LIKE A NEW MAP ONCE A YEAR, IT'S SO AWESOME, OH YES, IT'S SO AWESOMENAUTS, YES, YES, I'M GOOD AT THIS, YES, YES, GOOD, I'M GOOD, YES, GOOD, YOU ARE BAD, IM GOOD, YES, TOO GOOD, YES, IM NOT BAD, YES, GOOD.\"}]}\n"
     ]
    }
   ],
   "source": [
    "# Se imprimen las primeras líneas para revisar el resultado obtenido.\n",
    "for linea in data_reviews[:5]:\n",
    "  print(linea)"
   ]
  },
  {
   "cell_type": "code",
   "execution_count": 68,
   "metadata": {},
   "outputs": [
    {
     "name": "stdout",
     "output_type": "stream",
     "text": [
      "EL total de elementos JSON no válidos de la data fue 400 de 25799 lo que equivale al 1.55 %\n"
     ]
    }
   ],
   "source": [
    "# Se validan que los elementos sean json válidos.\n",
    "json_reviews = validar_data(data_reviews)\n",
    "\n",
    "# Debido a que los datos no corregidos adecuadamente se puede considerar como despreciables (pocos datos no válidos), se continúa con el proceso."
   ]
  },
  {
   "cell_type": "code",
   "execution_count": 70,
   "metadata": {},
   "outputs": [
    {
     "data": {
      "text/html": [
       "<div>\n",
       "<style scoped>\n",
       "    .dataframe tbody tr th:only-of-type {\n",
       "        vertical-align: middle;\n",
       "    }\n",
       "\n",
       "    .dataframe tbody tr th {\n",
       "        vertical-align: top;\n",
       "    }\n",
       "\n",
       "    .dataframe thead th {\n",
       "        text-align: right;\n",
       "    }\n",
       "</style>\n",
       "<table border=\"1\" class=\"dataframe\">\n",
       "  <thead>\n",
       "    <tr style=\"text-align: right;\">\n",
       "      <th></th>\n",
       "      <th>user_id</th>\n",
       "      <th>user_url</th>\n",
       "      <th>reviews</th>\n",
       "    </tr>\n",
       "  </thead>\n",
       "  <tbody>\n",
       "    <tr>\n",
       "      <th>0</th>\n",
       "      <td>76561197970982479</td>\n",
       "      <td>http://steamcommunity.com/profiles/76561197970...</td>\n",
       "      <td>[{'funny': '', 'posted': 'Posted November 5, 2...</td>\n",
       "    </tr>\n",
       "    <tr>\n",
       "      <th>1</th>\n",
       "      <td>js41637</td>\n",
       "      <td>http://steamcommunity.com/id/js41637</td>\n",
       "      <td>[{'funny': '', 'posted': 'Posted June 24, 2014...</td>\n",
       "    </tr>\n",
       "    <tr>\n",
       "      <th>2</th>\n",
       "      <td>evcentric</td>\n",
       "      <td>http://steamcommunity.com/id/evcentric</td>\n",
       "      <td>[{'funny': '', 'posted': 'Posted February 3.',...</td>\n",
       "    </tr>\n",
       "    <tr>\n",
       "      <th>3</th>\n",
       "      <td>doctr</td>\n",
       "      <td>http://steamcommunity.com/id/doctr</td>\n",
       "      <td>[{'funny': '', 'posted': 'Posted October 14, 2...</td>\n",
       "    </tr>\n",
       "    <tr>\n",
       "      <th>4</th>\n",
       "      <td>maplemage</td>\n",
       "      <td>http://steamcommunity.com/id/maplemage</td>\n",
       "      <td>[{'funny': '3 people found this review funny',...</td>\n",
       "    </tr>\n",
       "  </tbody>\n",
       "</table>\n",
       "</div>"
      ],
      "text/plain": [
       "             user_id                                           user_url  \\\n",
       "0  76561197970982479  http://steamcommunity.com/profiles/76561197970...   \n",
       "1            js41637               http://steamcommunity.com/id/js41637   \n",
       "2          evcentric             http://steamcommunity.com/id/evcentric   \n",
       "3              doctr                 http://steamcommunity.com/id/doctr   \n",
       "4          maplemage             http://steamcommunity.com/id/maplemage   \n",
       "\n",
       "                                             reviews  \n",
       "0  [{'funny': '', 'posted': 'Posted November 5, 2...  \n",
       "1  [{'funny': '', 'posted': 'Posted June 24, 2014...  \n",
       "2  [{'funny': '', 'posted': 'Posted February 3.',...  \n",
       "3  [{'funny': '', 'posted': 'Posted October 14, 2...  \n",
       "4  [{'funny': '3 people found this review funny',...  "
      ]
     },
     "execution_count": 70,
     "metadata": {},
     "output_type": "execute_result"
    }
   ],
   "source": [
    "# Se convierten los elementos a un dataframe de pandas.\n",
    "reviews = cargar_json_corregido(json_reviews)\n",
    "reviews.head()"
   ]
  },
  {
   "cell_type": "code",
   "execution_count": 71,
   "metadata": {},
   "outputs": [],
   "source": [
    "# Se elimina la columna de \"user_url\".\n",
    "reviews.drop(columns=[\"user_url\"],inplace=True)"
   ]
  },
  {
   "cell_type": "code",
   "execution_count": 72,
   "metadata": {},
   "outputs": [],
   "source": [
    "# Se desagregan cada una de las reviews para cada usuario.\n",
    "reviews = reviews.explode(column=\"reviews\",ignore_index=True)"
   ]
  },
  {
   "cell_type": "code",
   "execution_count": 74,
   "metadata": {},
   "outputs": [],
   "source": [
    "# Con el propósito de separar cada una de las reviews, se normaliza la columna \"reviews\" la cual se encuentra en formato JSON en un DataFrame nuevo.\n",
    "x = json_normalize(reviews[\"reviews\"])\n",
    "# Se combina el DataFrame normalizado con el DataFrame original.\n",
    "reviews = pd.concat([reviews, x], axis=1).drop('reviews', axis=1)"
   ]
  },
  {
   "cell_type": "code",
   "execution_count": 76,
   "metadata": {},
   "outputs": [],
   "source": [
    "# Se eliminan las columnas que ya no son necesarias o útiles para las consultas que se realizarán.\n",
    "reviews.drop(columns=[\"funny\",\"helpful\"],inplace=True)"
   ]
  },
  {
   "cell_type": "code",
   "execution_count": 78,
   "metadata": {},
   "outputs": [],
   "source": [
    "# Se reemplazan los valores no deseados (espacios en blanco) en \"posted\"\n",
    "reviews[\"posted\"] = reviews[\"posted\"].replace(r\"^\\s*$\", pd.NA, regex=True)\n",
    "\n",
    "# Se decide dejar la columna \"posted\", ya que se acerca más al año donde probablemente se hizo la compra del juego.\n",
    "reviews.drop(columns=[\"last_edited\"],inplace=True)\n",
    "\n",
    "# Se separa la columna \"posted\" para poder obtener la fecha en una columna separada.\n",
    "reviews[[\"estatus\",\"date\"]] = reviews[\"posted\"].str.split(\" \",n= 1,expand=True)\n",
    "\n",
    "# Se elimina la columna estatus ya que no ofrece información relevante\n",
    "reviews.drop(columns=\"estatus\",inplace=True)"
   ]
  },
  {
   "cell_type": "code",
   "execution_count": 80,
   "metadata": {},
   "outputs": [],
   "source": [
    "# Se transforma la columna date a formato string\n",
    "reviews[\"date\"] = reviews[\"date\"].astype(str)\n",
    "# Se revisan los datos con formato de fecha valida\n",
    "reviews[\"date_valid\"] = reviews[\"date\"].apply(es_fecha)"
   ]
  },
  {
   "cell_type": "code",
   "execution_count": 82,
   "metadata": {},
   "outputs": [],
   "source": [
    "# Se elimina la columna posted y date por no ofrecer información relevante\n",
    "reviews.drop(columns=[\"posted\",\"date\"],inplace=True)"
   ]
  },
  {
   "cell_type": "code",
   "execution_count": 84,
   "metadata": {},
   "outputs": [],
   "source": [
    "# Se cambia el nombre de \"date_valid\"\n",
    "reviews.rename(columns={\"date_valid\":\"posted\"},inplace=True)"
   ]
  },
  {
   "cell_type": "code",
   "execution_count": 86,
   "metadata": {},
   "outputs": [],
   "source": [
    "# Se eliminan las filas donde item_id, posted o recommend sea nulo\n",
    "reviews = reviews.dropna(subset=[\"item_id\",\"posted\",\"recommend\"])"
   ]
  },
  {
   "cell_type": "code",
   "execution_count": 88,
   "metadata": {},
   "outputs": [
    {
     "name": "stderr",
     "output_type": "stream",
     "text": [
      "C:\\Users\\dmon2\\AppData\\Local\\Temp\\ipykernel_9824\\410897906.py:2: SettingWithCopyWarning: \n",
      "A value is trying to be set on a copy of a slice from a DataFrame\n",
      "\n",
      "See the caveats in the documentation: https://pandas.pydata.org/pandas-docs/stable/user_guide/indexing.html#returning-a-view-versus-a-copy\n",
      "  reviews[\"review\"].replace([\"\",\" \"],\"No review\",inplace = True)\n",
      "C:\\Users\\dmon2\\AppData\\Local\\Temp\\ipykernel_9824\\410897906.py:4: SettingWithCopyWarning: \n",
      "A value is trying to be set on a copy of a slice from a DataFrame.\n",
      "Try using .loc[row_indexer,col_indexer] = value instead\n",
      "\n",
      "See the caveats in the documentation: https://pandas.pydata.org/pandas-docs/stable/user_guide/indexing.html#returning-a-view-versus-a-copy\n",
      "  reviews[\"review\"] = reviews[\"review\"].astype(str)\n"
     ]
    }
   ],
   "source": [
    "# Se reemplazan las reviews vacías por un mensaje que diga \"No review\"\n",
    "reviews[\"review\"].replace([\"\",\" \"],\"No review\",inplace = True)\n",
    "# Se aseguran que todos los datos en \"review\" sean string.\n",
    "reviews[\"review\"] = reviews[\"review\"].astype(str)"
   ]
  },
  {
   "cell_type": "code",
   "execution_count": 87,
   "metadata": {},
   "outputs": [
    {
     "data": {
      "text/html": [
       "<div>\n",
       "<style scoped>\n",
       "    .dataframe tbody tr th:only-of-type {\n",
       "        vertical-align: middle;\n",
       "    }\n",
       "\n",
       "    .dataframe tbody tr th {\n",
       "        vertical-align: top;\n",
       "    }\n",
       "\n",
       "    .dataframe thead th {\n",
       "        text-align: right;\n",
       "    }\n",
       "</style>\n",
       "<table border=\"1\" class=\"dataframe\">\n",
       "  <thead>\n",
       "    <tr style=\"text-align: right;\">\n",
       "      <th></th>\n",
       "      <th>user_id</th>\n",
       "      <th>item_id</th>\n",
       "      <th>recommend</th>\n",
       "      <th>review</th>\n",
       "      <th>posted</th>\n",
       "    </tr>\n",
       "  </thead>\n",
       "  <tbody>\n",
       "    <tr>\n",
       "      <th>0</th>\n",
       "      <td>76561197970982479</td>\n",
       "      <td>1250</td>\n",
       "      <td>True</td>\n",
       "      <td>Simple yet with great replayability. In my opi...</td>\n",
       "      <td>2011-11-05</td>\n",
       "    </tr>\n",
       "    <tr>\n",
       "      <th>1</th>\n",
       "      <td>76561197970982479</td>\n",
       "      <td>22200</td>\n",
       "      <td>True</td>\n",
       "      <td>It's unique and worth a playthrough.</td>\n",
       "      <td>2011-07-15</td>\n",
       "    </tr>\n",
       "    <tr>\n",
       "      <th>2</th>\n",
       "      <td>76561197970982479</td>\n",
       "      <td>43110</td>\n",
       "      <td>True</td>\n",
       "      <td>Great atmosphere. The gunplay can be a bit chu...</td>\n",
       "      <td>2011-04-21</td>\n",
       "    </tr>\n",
       "    <tr>\n",
       "      <th>3</th>\n",
       "      <td>js41637</td>\n",
       "      <td>251610</td>\n",
       "      <td>True</td>\n",
       "      <td>I know what you think when you see this title ...</td>\n",
       "      <td>2014-06-24</td>\n",
       "    </tr>\n",
       "    <tr>\n",
       "      <th>4</th>\n",
       "      <td>js41637</td>\n",
       "      <td>227300</td>\n",
       "      <td>True</td>\n",
       "      <td>For a simple (it's actually not all that simpl...</td>\n",
       "      <td>2013-09-08</td>\n",
       "    </tr>\n",
       "    <tr>\n",
       "      <th>...</th>\n",
       "      <td>...</td>\n",
       "      <td>...</td>\n",
       "      <td>...</td>\n",
       "      <td>...</td>\n",
       "      <td>...</td>\n",
       "    </tr>\n",
       "    <tr>\n",
       "      <th>57631</th>\n",
       "      <td>76561198312638244</td>\n",
       "      <td>70</td>\n",
       "      <td>True</td>\n",
       "      <td>a must have classic from steam definitely wort...</td>\n",
       "      <td>2024-07-10</td>\n",
       "    </tr>\n",
       "    <tr>\n",
       "      <th>57632</th>\n",
       "      <td>76561198312638244</td>\n",
       "      <td>362890</td>\n",
       "      <td>True</td>\n",
       "      <td>this game is a perfect remake of the original ...</td>\n",
       "      <td>2024-07-08</td>\n",
       "    </tr>\n",
       "    <tr>\n",
       "      <th>57633</th>\n",
       "      <td>LydiaMorley</td>\n",
       "      <td>273110</td>\n",
       "      <td>True</td>\n",
       "      <td>had so much fun plaing this and collecting res...</td>\n",
       "      <td>2024-07-03</td>\n",
       "    </tr>\n",
       "    <tr>\n",
       "      <th>57634</th>\n",
       "      <td>LydiaMorley</td>\n",
       "      <td>730</td>\n",
       "      <td>True</td>\n",
       "      <td>:D</td>\n",
       "      <td>2024-07-20</td>\n",
       "    </tr>\n",
       "    <tr>\n",
       "      <th>57635</th>\n",
       "      <td>LydiaMorley</td>\n",
       "      <td>440</td>\n",
       "      <td>True</td>\n",
       "      <td>so much fun :D</td>\n",
       "      <td>2024-07-02</td>\n",
       "    </tr>\n",
       "  </tbody>\n",
       "</table>\n",
       "<p>57608 rows × 5 columns</p>\n",
       "</div>"
      ],
      "text/plain": [
       "                 user_id item_id recommend  \\\n",
       "0      76561197970982479    1250      True   \n",
       "1      76561197970982479   22200      True   \n",
       "2      76561197970982479   43110      True   \n",
       "3                js41637  251610      True   \n",
       "4                js41637  227300      True   \n",
       "...                  ...     ...       ...   \n",
       "57631  76561198312638244      70      True   \n",
       "57632  76561198312638244  362890      True   \n",
       "57633        LydiaMorley  273110      True   \n",
       "57634        LydiaMorley     730      True   \n",
       "57635        LydiaMorley     440      True   \n",
       "\n",
       "                                                  review     posted  \n",
       "0      Simple yet with great replayability. In my opi... 2011-11-05  \n",
       "1                   It's unique and worth a playthrough. 2011-07-15  \n",
       "2      Great atmosphere. The gunplay can be a bit chu... 2011-04-21  \n",
       "3      I know what you think when you see this title ... 2014-06-24  \n",
       "4      For a simple (it's actually not all that simpl... 2013-09-08  \n",
       "...                                                  ...        ...  \n",
       "57631  a must have classic from steam definitely wort... 2024-07-10  \n",
       "57632  this game is a perfect remake of the original ... 2024-07-08  \n",
       "57633  had so much fun plaing this and collecting res... 2024-07-03  \n",
       "57634                                                 :D 2024-07-20  \n",
       "57635                                     so much fun :D 2024-07-02  \n",
       "\n",
       "[57608 rows x 5 columns]"
      ]
     },
     "execution_count": 87,
     "metadata": {},
     "output_type": "execute_result"
    }
   ],
   "source": [
    "# Se observa la base obtenida\n",
    "reviews"
   ]
  },
  {
   "cell_type": "code",
   "execution_count": 89,
   "metadata": {},
   "outputs": [],
   "source": [
    "# Se guarda la base de datos procesada hasta el momento\n",
    "guardar_archivo(reviews,\"../Data/procesamiento/reviews_pro.json.gzip\")"
   ]
  },
  {
   "cell_type": "code",
   "execution_count": 90,
   "metadata": {},
   "outputs": [
    {
     "data": {
      "text/html": [
       "<div>\n",
       "<style scoped>\n",
       "    .dataframe tbody tr th:only-of-type {\n",
       "        vertical-align: middle;\n",
       "    }\n",
       "\n",
       "    .dataframe tbody tr th {\n",
       "        vertical-align: top;\n",
       "    }\n",
       "\n",
       "    .dataframe thead th {\n",
       "        text-align: right;\n",
       "    }\n",
       "</style>\n",
       "<table border=\"1\" class=\"dataframe\">\n",
       "  <thead>\n",
       "    <tr style=\"text-align: right;\">\n",
       "      <th></th>\n",
       "      <th>user_id</th>\n",
       "      <th>item_id</th>\n",
       "      <th>recommend</th>\n",
       "      <th>review</th>\n",
       "      <th>posted</th>\n",
       "    </tr>\n",
       "  </thead>\n",
       "  <tbody>\n",
       "    <tr>\n",
       "      <th>0</th>\n",
       "      <td>76561197970982479</td>\n",
       "      <td>1250</td>\n",
       "      <td>True</td>\n",
       "      <td>Simple yet with great replayability. In my opi...</td>\n",
       "      <td>2011-11-05</td>\n",
       "    </tr>\n",
       "    <tr>\n",
       "      <th>1</th>\n",
       "      <td>76561197970982479</td>\n",
       "      <td>22200</td>\n",
       "      <td>True</td>\n",
       "      <td>It's unique and worth a playthrough.</td>\n",
       "      <td>2011-07-15</td>\n",
       "    </tr>\n",
       "    <tr>\n",
       "      <th>2</th>\n",
       "      <td>76561197970982479</td>\n",
       "      <td>43110</td>\n",
       "      <td>True</td>\n",
       "      <td>Great atmosphere. The gunplay can be a bit chu...</td>\n",
       "      <td>2011-04-21</td>\n",
       "    </tr>\n",
       "    <tr>\n",
       "      <th>3</th>\n",
       "      <td>js41637</td>\n",
       "      <td>251610</td>\n",
       "      <td>True</td>\n",
       "      <td>I know what you think when you see this title ...</td>\n",
       "      <td>2014-06-24</td>\n",
       "    </tr>\n",
       "    <tr>\n",
       "      <th>4</th>\n",
       "      <td>js41637</td>\n",
       "      <td>227300</td>\n",
       "      <td>True</td>\n",
       "      <td>For a simple (it's actually not all that simpl...</td>\n",
       "      <td>2013-09-08</td>\n",
       "    </tr>\n",
       "  </tbody>\n",
       "</table>\n",
       "</div>"
      ],
      "text/plain": [
       "             user_id  item_id  recommend  \\\n",
       "0  76561197970982479     1250       True   \n",
       "1  76561197970982479    22200       True   \n",
       "2  76561197970982479    43110       True   \n",
       "3            js41637   251610       True   \n",
       "4            js41637   227300       True   \n",
       "\n",
       "                                              review     posted  \n",
       "0  Simple yet with great replayability. In my opi... 2011-11-05  \n",
       "1               It's unique and worth a playthrough. 2011-07-15  \n",
       "2  Great atmosphere. The gunplay can be a bit chu... 2011-04-21  \n",
       "3  I know what you think when you see this title ... 2014-06-24  \n",
       "4  For a simple (it's actually not all that simpl... 2013-09-08  "
      ]
     },
     "execution_count": 90,
     "metadata": {},
     "output_type": "execute_result"
    }
   ],
   "source": [
    "reviews_p = pd.read_json(\"../Data/procesamiento/reviews_pro.json.gzip\",compression=\"gzip\",convert_dates=[\"posted\"],date_unit=\"ms\")\n",
    "reviews_p.head()"
   ]
  },
  {
   "cell_type": "markdown",
   "metadata": {},
   "source": [
    "### Limpieza del texto de las reviews - análisis de emoción"
   ]
  },
  {
   "cell_type": "code",
   "execution_count": 92,
   "metadata": {},
   "outputs": [],
   "source": [
    "#Se crea una función para limpiar la base de datos, buscando mantener la escritura\n",
    "# de los idiomas no alfabéticos\n",
    "\n",
    "def clean_text(text):\n",
    "    # Reemplazo de caracteres comunes\n",
    "    text = re.sub(r\"10/10\",\"amazing game\", text)\n",
    "    text = re.sub(r\"<3\",\"loved the game\", text)\n",
    "    text = re.sub(r\":\\)\",\"good game\", text)\n",
    "    # Eliminar caracteres numéricos y de puntuación\n",
    "    text = regex.sub(r\"[^\\p{L}p{Z}]\", \" \", text)\n",
    "    text = re.sub(r\"\\s{2,}\", \" \", text)\n",
    "    # Dejar el texto en minusculas\n",
    "    text = text.lower()\n",
    "    # Normalizar el texto a la forma NFKC (compatibilidad y composición)\n",
    "    text = unicodedata.normalize('NFKC', text)\n",
    "\n",
    "    return text"
   ]
  },
  {
   "cell_type": "code",
   "execution_count": 93,
   "metadata": {},
   "outputs": [],
   "source": [
    "# Se hace limpieza de los datos en la columna review.\n",
    "reviews_p[\"review_clean\"] = reviews_p[\"review\"].apply(clean_text)"
   ]
  },
  {
   "cell_type": "code",
   "execution_count": 95,
   "metadata": {},
   "outputs": [],
   "source": [
    "# Se crea una función para detectar el lenguaje.\n",
    "# En caso de que no sea capaz de detectarlo, no trae ningún valor.\n",
    "def detect_language(text):\n",
    "    try:\n",
    "        return detect(text)\n",
    "    except LangDetectException as e:\n",
    "        return None\n",
    "    \n",
    "# Se busca detectar los idiomas en las reviews. \n",
    "reviews_p[\"language\"] = reviews_p[\"review_clean\"].apply(detect_language)"
   ]
  },
  {
   "cell_type": "code",
   "execution_count": 97,
   "metadata": {},
   "outputs": [],
   "source": [
    "# Se traen los datos de todas las reviews identificadas correctamente en inglés.\n",
    "en_reviews = reviews_p[reviews_p[\"language\"] == \"en\"]"
   ]
  },
  {
   "cell_type": "code",
   "execution_count": 98,
   "metadata": {},
   "outputs": [],
   "source": [
    "# Se importa el modelo de análisis de sentimientos.\n",
    "sia = SentimentIntensityAnalyzer()"
   ]
  },
  {
   "cell_type": "code",
   "execution_count": 100,
   "metadata": {},
   "outputs": [],
   "source": [
    "# Se crea la definición del valor de respuesta que vamos a entender como un sentimiento:\n",
    "  # Positivo\n",
    "pos = 0.5\n",
    "  # y negativo\n",
    "neg = -0.5\n",
    "\n",
    "# Definimos una función para analizar el sentimiento de la review.\n",
    "def sentiment_analisys(texto):\n",
    "  sentimiento = sia.polarity_scores(texto)[\"compound\"]\n",
    "\n",
    "  # Se define la variable de respuesta.\n",
    "  r = int\n",
    "\n",
    "  # Si el sentimiento se define como positivo, nos marca 2.\n",
    "  if sentimiento >= pos:\n",
    "    r = 2\n",
    "  # Si el sentimiento se define como negativo, nos marca 0.\n",
    "  elif sentimiento <= neg:\n",
    "    r = 0\n",
    "  # En caso contrario se define como neutral en 1.\n",
    "  else:\n",
    "    r = 1\n",
    "\n",
    "  return r"
   ]
  },
  {
   "cell_type": "code",
   "execution_count": 101,
   "metadata": {},
   "outputs": [
    {
     "name": "stderr",
     "output_type": "stream",
     "text": [
      "C:\\Users\\dmon2\\AppData\\Local\\Temp\\ipykernel_9824\\2083790567.py:2: SettingWithCopyWarning: \n",
      "A value is trying to be set on a copy of a slice from a DataFrame.\n",
      "Try using .loc[row_indexer,col_indexer] = value instead\n",
      "\n",
      "See the caveats in the documentation: https://pandas.pydata.org/pandas-docs/stable/user_guide/indexing.html#returning-a-view-versus-a-copy\n",
      "  en_reviews[\"sentiment_analysis\"] = en_reviews[\"review_clean\"].apply(sentiment_analisys)\n"
     ]
    }
   ],
   "source": [
    "# Se hace el análisis de sentimiento de cada una de las reviews\n",
    "en_reviews[\"sentiment_analysis\"] = en_reviews[\"review_clean\"].apply(sentiment_analisys)"
   ]
  },
  {
   "cell_type": "code",
   "execution_count": 102,
   "metadata": {},
   "outputs": [
    {
     "name": "stderr",
     "output_type": "stream",
     "text": [
      "C:\\Users\\dmon2\\AppData\\Local\\Temp\\ipykernel_9824\\1537476710.py:2: SettingWithCopyWarning: \n",
      "A value is trying to be set on a copy of a slice from a DataFrame\n",
      "\n",
      "See the caveats in the documentation: https://pandas.pydata.org/pandas-docs/stable/user_guide/indexing.html#returning-a-view-versus-a-copy\n",
      "  en_reviews.drop(columns=[\"review_clean\",\"review\",\"language\"],inplace=True)\n"
     ]
    }
   ],
   "source": [
    "# Se eliminan las columnas de \"review_clean\",\"review\",\"language\" ya que no representan infomración útil para las consultas.\n",
    "en_reviews.drop(columns=[\"review_clean\",\"review\",\"language\"],inplace=True)"
   ]
  },
  {
   "cell_type": "code",
   "execution_count": 104,
   "metadata": {},
   "outputs": [
    {
     "name": "stdout",
     "output_type": "stream",
     "text": [
      "recommend\n",
      "True     0.876766\n",
      "False    0.123234\n",
      "Name: proportion, dtype: float64\n",
      "sentiment_analysis\n",
      "2    0.585414\n",
      "1    0.329513\n",
      "0    0.085072\n",
      "Name: proportion, dtype: float64\n"
     ]
    }
   ],
   "source": [
    "# Se obtiene información sobre la distribución del dataset en \"recommend\" y \"sentiment_analisys\".\n",
    "print(en_reviews[\"recommend\"].value_counts(normalize=True))\n",
    "print(en_reviews[\"sentiment_analysis\"].value_counts(normalize=True))"
   ]
  },
  {
   "cell_type": "code",
   "execution_count": 105,
   "metadata": {},
   "outputs": [
    {
     "name": "stderr",
     "output_type": "stream",
     "text": [
      "C:\\Users\\dmon2\\AppData\\Local\\Temp\\ipykernel_9824\\1532270749.py:2: SettingWithCopyWarning: \n",
      "A value is trying to be set on a copy of a slice from a DataFrame.\n",
      "Try using .loc[row_indexer,col_indexer] = value instead\n",
      "\n",
      "See the caveats in the documentation: https://pandas.pydata.org/pandas-docs/stable/user_guide/indexing.html#returning-a-view-versus-a-copy\n",
      "  en_reviews[\"user_id\"] = en_reviews[\"user_id\"].astype(str)\n"
     ]
    }
   ],
   "source": [
    "# Se asegura transformar el user_id a tipo str\n",
    "en_reviews[\"user_id\"] = en_reviews[\"user_id\"].astype(str)"
   ]
  },
  {
   "cell_type": "code",
   "execution_count": 107,
   "metadata": {},
   "outputs": [
    {
     "name": "stdout",
     "output_type": "stream",
     "text": [
      "<class 'pandas.core.frame.DataFrame'>\n",
      "Index: 43892 entries, 0 to 57633\n",
      "Data columns (total 5 columns):\n",
      " #   Column              Non-Null Count  Dtype         \n",
      "---  ------              --------------  -----         \n",
      " 0   user_id             43892 non-null  object        \n",
      " 1   item_id             43892 non-null  int64         \n",
      " 2   recommend           43892 non-null  bool          \n",
      " 3   posted              43892 non-null  datetime64[ns]\n",
      " 4   sentiment_analysis  43892 non-null  int64         \n",
      "dtypes: bool(1), datetime64[ns](1), int64(2), object(1)\n",
      "memory usage: 1.7+ MB\n"
     ]
    }
   ],
   "source": [
    "# Se revisa la información del dataset.\n",
    "en_reviews.info()"
   ]
  },
  {
   "cell_type": "code",
   "execution_count": 106,
   "metadata": {},
   "outputs": [
    {
     "data": {
      "text/html": [
       "<div>\n",
       "<style scoped>\n",
       "    .dataframe tbody tr th:only-of-type {\n",
       "        vertical-align: middle;\n",
       "    }\n",
       "\n",
       "    .dataframe tbody tr th {\n",
       "        vertical-align: top;\n",
       "    }\n",
       "\n",
       "    .dataframe thead th {\n",
       "        text-align: right;\n",
       "    }\n",
       "</style>\n",
       "<table border=\"1\" class=\"dataframe\">\n",
       "  <thead>\n",
       "    <tr style=\"text-align: right;\">\n",
       "      <th></th>\n",
       "      <th>user_id</th>\n",
       "      <th>item_id</th>\n",
       "      <th>recommend</th>\n",
       "      <th>posted</th>\n",
       "      <th>sentiment_analysis</th>\n",
       "    </tr>\n",
       "  </thead>\n",
       "  <tbody>\n",
       "    <tr>\n",
       "      <th>0</th>\n",
       "      <td>76561197970982479</td>\n",
       "      <td>1250</td>\n",
       "      <td>True</td>\n",
       "      <td>2011-11-05</td>\n",
       "      <td>2</td>\n",
       "    </tr>\n",
       "    <tr>\n",
       "      <th>1</th>\n",
       "      <td>76561197970982479</td>\n",
       "      <td>22200</td>\n",
       "      <td>True</td>\n",
       "      <td>2011-07-15</td>\n",
       "      <td>1</td>\n",
       "    </tr>\n",
       "    <tr>\n",
       "      <th>2</th>\n",
       "      <td>76561197970982479</td>\n",
       "      <td>43110</td>\n",
       "      <td>True</td>\n",
       "      <td>2011-04-21</td>\n",
       "      <td>2</td>\n",
       "    </tr>\n",
       "    <tr>\n",
       "      <th>3</th>\n",
       "      <td>js41637</td>\n",
       "      <td>251610</td>\n",
       "      <td>True</td>\n",
       "      <td>2014-06-24</td>\n",
       "      <td>2</td>\n",
       "    </tr>\n",
       "    <tr>\n",
       "      <th>4</th>\n",
       "      <td>js41637</td>\n",
       "      <td>227300</td>\n",
       "      <td>True</td>\n",
       "      <td>2013-09-08</td>\n",
       "      <td>2</td>\n",
       "    </tr>\n",
       "    <tr>\n",
       "      <th>...</th>\n",
       "      <td>...</td>\n",
       "      <td>...</td>\n",
       "      <td>...</td>\n",
       "      <td>...</td>\n",
       "      <td>...</td>\n",
       "    </tr>\n",
       "    <tr>\n",
       "      <th>57629</th>\n",
       "      <td>76561198312638244</td>\n",
       "      <td>233270</td>\n",
       "      <td>True</td>\n",
       "      <td>2024-07-21</td>\n",
       "      <td>2</td>\n",
       "    </tr>\n",
       "    <tr>\n",
       "      <th>57630</th>\n",
       "      <td>76561198312638244</td>\n",
       "      <td>130</td>\n",
       "      <td>True</td>\n",
       "      <td>2024-07-10</td>\n",
       "      <td>2</td>\n",
       "    </tr>\n",
       "    <tr>\n",
       "      <th>57631</th>\n",
       "      <td>76561198312638244</td>\n",
       "      <td>70</td>\n",
       "      <td>True</td>\n",
       "      <td>2024-07-10</td>\n",
       "      <td>2</td>\n",
       "    </tr>\n",
       "    <tr>\n",
       "      <th>57632</th>\n",
       "      <td>76561198312638244</td>\n",
       "      <td>362890</td>\n",
       "      <td>True</td>\n",
       "      <td>2024-07-08</td>\n",
       "      <td>2</td>\n",
       "    </tr>\n",
       "    <tr>\n",
       "      <th>57633</th>\n",
       "      <td>LydiaMorley</td>\n",
       "      <td>273110</td>\n",
       "      <td>True</td>\n",
       "      <td>2024-07-03</td>\n",
       "      <td>2</td>\n",
       "    </tr>\n",
       "  </tbody>\n",
       "</table>\n",
       "<p>43892 rows × 5 columns</p>\n",
       "</div>"
      ],
      "text/plain": [
       "                 user_id  item_id  recommend     posted  sentiment_analysis\n",
       "0      76561197970982479     1250       True 2011-11-05                   2\n",
       "1      76561197970982479    22200       True 2011-07-15                   1\n",
       "2      76561197970982479    43110       True 2011-04-21                   2\n",
       "3                js41637   251610       True 2014-06-24                   2\n",
       "4                js41637   227300       True 2013-09-08                   2\n",
       "...                  ...      ...        ...        ...                 ...\n",
       "57629  76561198312638244   233270       True 2024-07-21                   2\n",
       "57630  76561198312638244      130       True 2024-07-10                   2\n",
       "57631  76561198312638244       70       True 2024-07-10                   2\n",
       "57632  76561198312638244   362890       True 2024-07-08                   2\n",
       "57633        LydiaMorley   273110       True 2024-07-03                   2\n",
       "\n",
       "[43892 rows x 5 columns]"
      ]
     },
     "execution_count": 106,
     "metadata": {},
     "output_type": "execute_result"
    }
   ],
   "source": [
    "# Se revisa la base de datos obtenida.\n",
    "en_reviews"
   ]
  },
  {
   "cell_type": "code",
   "execution_count": 108,
   "metadata": {},
   "outputs": [],
   "source": [
    "# Se guarda la base obtenida.\n",
    "guardar_archivo(en_reviews,\"../Data/corregida/r_reviews.json.gzip\")"
   ]
  },
  {
   "cell_type": "code",
   "execution_count": 109,
   "metadata": {},
   "outputs": [
    {
     "data": {
      "text/html": [
       "<div>\n",
       "<style scoped>\n",
       "    .dataframe tbody tr th:only-of-type {\n",
       "        vertical-align: middle;\n",
       "    }\n",
       "\n",
       "    .dataframe tbody tr th {\n",
       "        vertical-align: top;\n",
       "    }\n",
       "\n",
       "    .dataframe thead th {\n",
       "        text-align: right;\n",
       "    }\n",
       "</style>\n",
       "<table border=\"1\" class=\"dataframe\">\n",
       "  <thead>\n",
       "    <tr style=\"text-align: right;\">\n",
       "      <th></th>\n",
       "      <th>user_id</th>\n",
       "      <th>item_id</th>\n",
       "      <th>recommend</th>\n",
       "      <th>posted</th>\n",
       "      <th>sentiment_analysis</th>\n",
       "    </tr>\n",
       "  </thead>\n",
       "  <tbody>\n",
       "    <tr>\n",
       "      <th>0</th>\n",
       "      <td>76561197970982479</td>\n",
       "      <td>1250</td>\n",
       "      <td>True</td>\n",
       "      <td>2011-11-05</td>\n",
       "      <td>2</td>\n",
       "    </tr>\n",
       "    <tr>\n",
       "      <th>1</th>\n",
       "      <td>76561197970982479</td>\n",
       "      <td>22200</td>\n",
       "      <td>True</td>\n",
       "      <td>2011-07-15</td>\n",
       "      <td>1</td>\n",
       "    </tr>\n",
       "    <tr>\n",
       "      <th>2</th>\n",
       "      <td>76561197970982479</td>\n",
       "      <td>43110</td>\n",
       "      <td>True</td>\n",
       "      <td>2011-04-21</td>\n",
       "      <td>2</td>\n",
       "    </tr>\n",
       "    <tr>\n",
       "      <th>3</th>\n",
       "      <td>js41637</td>\n",
       "      <td>251610</td>\n",
       "      <td>True</td>\n",
       "      <td>2014-06-24</td>\n",
       "      <td>2</td>\n",
       "    </tr>\n",
       "    <tr>\n",
       "      <th>4</th>\n",
       "      <td>js41637</td>\n",
       "      <td>227300</td>\n",
       "      <td>True</td>\n",
       "      <td>2013-09-08</td>\n",
       "      <td>2</td>\n",
       "    </tr>\n",
       "  </tbody>\n",
       "</table>\n",
       "</div>"
      ],
      "text/plain": [
       "             user_id  item_id  recommend     posted  sentiment_analysis\n",
       "0  76561197970982479     1250       True 2011-11-05                   2\n",
       "1  76561197970982479    22200       True 2011-07-15                   1\n",
       "2  76561197970982479    43110       True 2011-04-21                   2\n",
       "3            js41637   251610       True 2014-06-24                   2\n",
       "4            js41637   227300       True 2013-09-08                   2"
      ]
     },
     "execution_count": 109,
     "metadata": {},
     "output_type": "execute_result"
    }
   ],
   "source": [
    "# Se revisa que la base cargue adecuadamente.\n",
    "n_reviews = pd.read_json(\"../Data/corregida/r_reviews.json.gzip\",compression=\"gzip\",convert_dates=[\"posted\"],date_unit=\"ms\")\n",
    "n_reviews.head()"
   ]
  },
  {
   "cell_type": "markdown",
   "metadata": {},
   "source": [
    "## Items"
   ]
  },
  {
   "cell_type": "code",
   "execution_count": null,
   "metadata": {},
   "outputs": [],
   "source": []
  }
 ],
 "metadata": {
  "kernelspec": {
   "display_name": "Python 3",
   "language": "python",
   "name": "python3"
  },
  "language_info": {
   "codemirror_mode": {
    "name": "ipython",
    "version": 3
   },
   "file_extension": ".py",
   "mimetype": "text/x-python",
   "name": "python",
   "nbconvert_exporter": "python",
   "pygments_lexer": "ipython3",
   "version": "3.11.8"
  }
 },
 "nbformat": 4,
 "nbformat_minor": 2
}
