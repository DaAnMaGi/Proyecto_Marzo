{
 "cells": [
  {
   "cell_type": "markdown",
   "metadata": {},
   "source": [
    "# Cargue de información"
   ]
  },
  {
   "cell_type": "markdown",
   "metadata": {},
   "source": [
    "## Bibliotecas"
   ]
  },
  {
   "cell_type": "code",
   "execution_count": 10,
   "metadata": {},
   "outputs": [],
   "source": [
    "# Descarga de las bibliotecas a utilizar\n",
    "\n",
    "#%pip install nltk\n",
    "#%pip install googletrans==4.0.0-rc1\n",
    "#%pip install regex\n",
    "#%pip install unidecode\n",
    "#%pip install langdetect"
   ]
  },
  {
   "cell_type": "code",
   "execution_count": 2,
   "metadata": {},
   "outputs": [],
   "source": [
    "# Importación de las bibliotecas a utilizar\n",
    "import pandas as pd\n",
    "from dateutil import parser\n",
    "import gzip\n",
    "import json\n",
    "from pandas import json_normalize\n",
    "import unicodedata\n",
    "\n",
    "from langdetect import detect, LangDetectException\n",
    "\n",
    "import regex\n",
    "import re\n",
    "import nltk\n",
    "from nltk.sentiment import SentimentIntensityAnalyzer"
   ]
  },
  {
   "cell_type": "code",
   "execution_count": 3,
   "metadata": {},
   "outputs": [
    {
     "name": "stdout",
     "output_type": "stream",
     "text": [
      "showing info https://raw.githubusercontent.com/nltk/nltk_data/gh-pages/index.xml\n"
     ]
    },
    {
     "data": {
      "text/plain": [
       "True"
      ]
     },
     "execution_count": 3,
     "metadata": {},
     "output_type": "execute_result"
    }
   ],
   "source": [
    "# nltk.download()"
   ]
  },
  {
   "cell_type": "markdown",
   "metadata": {},
   "source": [
    "## Bases de datos - Rutas"
   ]
  },
  {
   "cell_type": "code",
   "execution_count": 4,
   "metadata": {},
   "outputs": [],
   "source": [
    "# Se obtienen las rutas de los archivos\n",
    "ruta_games = \"../Data/originales/steam_games.json.gz\"\n",
    "ruta_reviews = \"../Data/originales/user_reviews.json.gz\"\n",
    "ruta_items = \"../Data/originales/users_items.json.gz\""
   ]
  },
  {
   "cell_type": "markdown",
   "metadata": {},
   "source": [
    "## Funciones generales"
   ]
  },
  {
   "cell_type": "code",
   "execution_count": 5,
   "metadata": {},
   "outputs": [],
   "source": [
    "# Se crea una función que abre los archivos json dañados y regresa una lista con los datos transformados.\n",
    "def abrir_json_corrupto(ruta):\n",
    "    '''A partir de la ruta de un archivo json corrupto comprimido en formato gzip, \n",
    "    abre el archivo y hace una limpieza de las líneas para acercarlas a un formato json'''\n",
    "    # Abre el archivo JSON.GZIP para descomprimirlo y convertirlo en una lista.\n",
    "    with gzip.open(ruta,\"rt\",encoding=\"utf-8\", errors=\"replace\") as archivo_original:\n",
    "        lineas_items = archivo_original.readlines()\n",
    "\n",
    "    # Se crea una lista donde se guardarán las líneas corregidas.\n",
    "    data = []\n",
    "\n",
    "    # Se revisa línea por línea y se reemplazan los datos que impiden que el JSON sea válido\n",
    "    for linea in lineas_items:\n",
    "        linea = linea.replace('\"',\"'\")\n",
    "        linea = linea.replace(\"True\",\"true\").replace(\"False\",\"false\")\n",
    "        # linea = linea.replace(\"\\': \\'\",'\": \"').replace(\"\\', \\'\",'\", \"').replace(\"\\': [{\\'\", '\": [{\"').replace(\"\\': true, \\'\", '\": true, \"').replace(\"\\': false, \\'\",'\": false, \"')\n",
    "        linea = linea.replace(\"\\':\",'\":').replace(\", \\'\", ', \"').replace(\"{\\'\", '{\"').replace(\": \\'\",': \"').replace(\"\\',\",'\",')\n",
    "        # linea = linea.replace(\"\\'}\",'\"}').replace(\"\\\\\\'\",\"'\").replace(\"{\\'\", '{\"').replace(\"': []\",'\": []')\n",
    "        linea = linea.replace(\"\\'}\",'\"}').replace(\"\\\\\\'\",\"'\")\n",
    "        linea = linea.strip('\\n').strip(\"'\")\n",
    "\n",
    "        data.append(linea)\n",
    "\n",
    "    # Se regresa la lista de las líneas después de la corrección realizada.\n",
    "    return data"
   ]
  },
  {
   "cell_type": "code",
   "execution_count": 6,
   "metadata": {},
   "outputs": [],
   "source": [
    "# Se crea una función con el propósito de verificar que los elementos sean json válidos\n",
    "def es_json_valido(cadena):\n",
    "    '''A partir de una cadena de texto, revisa si el elemento es json válido.'''\n",
    "    try:\n",
    "        json.loads(cadena)\n",
    "        return True\n",
    "    except ValueError:\n",
    "        return False\n",
    "\n",
    "# Se crea una función para validar la data de las listas de los elementos json transformados.\n",
    "def validar_data(data):\n",
    "    '''Valida la data de una lista, separando elementos json válidos de aquellos que no lo son.'''\n",
    "    # Se crean las listas donde se guardaran los elementos separados.\n",
    "    no_validos = []\n",
    "    validos = []\n",
    "\n",
    "    for elemento in data:\n",
    "        if es_json_valido(elemento) == False:\n",
    "            no_validos.append(elemento)\n",
    "        else: validos.append(elemento)\n",
    "\n",
    "    # Se imprime el número de elementos JSON no válidos\n",
    "    print(f\"EL total de elementos JSON no válidos de la data fue {len(no_validos)} de {len(data)} lo que equivale al {round((len(no_validos)/len(data)) * 100,2)} %\")\n",
    "\n",
    "    # Regresa la lista de datos válidos.\n",
    "    return validos\n"
   ]
  },
  {
   "cell_type": "code",
   "execution_count": 7,
   "metadata": {},
   "outputs": [],
   "source": [
    "# Se crea una función para cargar los elementos JSON corregidos a un dataframe de pandas.\n",
    "\n",
    "def cargar_json_corregido(data):\n",
    "    '''Toma una lista de elementos en formato JSON y los convierte a un dataframe de pandas'''\n",
    "    #Convertir cada elemento de la lista a un diccionario\n",
    "    diccionario = [json.loads(elemento) for elemento in data]\n",
    "\n",
    "    # Combinar los diccionarios en uno solo\n",
    "    data_json = json.dumps(diccionario, indent=2)\n",
    "    \n",
    "    # Se convierten a un dataframe de pandas.\n",
    "    n_data = pd.read_json(data_json)\n",
    "\n",
    "    return n_data\n"
   ]
  },
  {
   "cell_type": "code",
   "execution_count": 8,
   "metadata": {},
   "outputs": [],
   "source": [
    "# Se define una función para revisar que los datos de las fechas sean válidos:\n",
    "def es_fecha(fecha):\n",
    "    try:\n",
    "        n_fecha = parser.parse(fecha)\n",
    "        return n_fecha\n",
    "    except ValueError:\n",
    "        return None"
   ]
  },
  {
   "cell_type": "code",
   "execution_count": 9,
   "metadata": {},
   "outputs": [],
   "source": [
    "# Se crea una función para guardar los nuevos archivos\n",
    "\n",
    "def guardar_archivo(DataFrame,RutaNuevoArchivo):\n",
    "  ''' Convierte un Dataframe dado en json y lo comprime en formato gzip'''\n",
    "  # Toma el dataframe dado y lo convierte en un archivo json.\n",
    "  archivo_json = DataFrame.to_json()\n",
    "  # Comprime el archivo json en formato gzip.\n",
    "  with gzip.open(RutaNuevoArchivo, \"w\") as f:\n",
    "    f.write(archivo_json.encode('utf-8'))"
   ]
  },
  {
   "cell_type": "markdown",
   "metadata": {},
   "source": [
    "# Apertura y revisión de las bases de datos"
   ]
  },
  {
   "cell_type": "markdown",
   "metadata": {},
   "source": [
    "Información necesaria para las consultas: \n",
    "- Año y horas jugadas por juego y género del juego.\n",
    "- Horas jugadas por usuario, género y años en los que jugó.\n",
    "- Recomendaciones por juego (recommend y comentarios)\n",
    "- Año y número de comentarios positivos, negativos o neutrales."
   ]
  },
  {
   "cell_type": "markdown",
   "metadata": {},
   "source": [
    "## Games"
   ]
  },
  {
   "cell_type": "code",
   "execution_count": 15,
   "metadata": {},
   "outputs": [
    {
     "data": {
      "text/html": [
       "<div>\n",
       "<style scoped>\n",
       "    .dataframe tbody tr th:only-of-type {\n",
       "        vertical-align: middle;\n",
       "    }\n",
       "\n",
       "    .dataframe tbody tr th {\n",
       "        vertical-align: top;\n",
       "    }\n",
       "\n",
       "    .dataframe thead th {\n",
       "        text-align: right;\n",
       "    }\n",
       "</style>\n",
       "<table border=\"1\" class=\"dataframe\">\n",
       "  <thead>\n",
       "    <tr style=\"text-align: right;\">\n",
       "      <th></th>\n",
       "      <th>publisher</th>\n",
       "      <th>genres</th>\n",
       "      <th>app_name</th>\n",
       "      <th>title</th>\n",
       "      <th>url</th>\n",
       "      <th>release_date</th>\n",
       "      <th>tags</th>\n",
       "      <th>reviews_url</th>\n",
       "      <th>specs</th>\n",
       "      <th>price</th>\n",
       "      <th>early_access</th>\n",
       "      <th>id</th>\n",
       "      <th>developer</th>\n",
       "    </tr>\n",
       "  </thead>\n",
       "  <tbody>\n",
       "    <tr>\n",
       "      <th>0</th>\n",
       "      <td>None</td>\n",
       "      <td>None</td>\n",
       "      <td>None</td>\n",
       "      <td>None</td>\n",
       "      <td>None</td>\n",
       "      <td>None</td>\n",
       "      <td>None</td>\n",
       "      <td>None</td>\n",
       "      <td>None</td>\n",
       "      <td>None</td>\n",
       "      <td>NaN</td>\n",
       "      <td>NaN</td>\n",
       "      <td>None</td>\n",
       "    </tr>\n",
       "    <tr>\n",
       "      <th>1</th>\n",
       "      <td>None</td>\n",
       "      <td>None</td>\n",
       "      <td>None</td>\n",
       "      <td>None</td>\n",
       "      <td>None</td>\n",
       "      <td>None</td>\n",
       "      <td>None</td>\n",
       "      <td>None</td>\n",
       "      <td>None</td>\n",
       "      <td>None</td>\n",
       "      <td>NaN</td>\n",
       "      <td>NaN</td>\n",
       "      <td>None</td>\n",
       "    </tr>\n",
       "    <tr>\n",
       "      <th>2</th>\n",
       "      <td>None</td>\n",
       "      <td>None</td>\n",
       "      <td>None</td>\n",
       "      <td>None</td>\n",
       "      <td>None</td>\n",
       "      <td>None</td>\n",
       "      <td>None</td>\n",
       "      <td>None</td>\n",
       "      <td>None</td>\n",
       "      <td>None</td>\n",
       "      <td>NaN</td>\n",
       "      <td>NaN</td>\n",
       "      <td>None</td>\n",
       "    </tr>\n",
       "    <tr>\n",
       "      <th>3</th>\n",
       "      <td>None</td>\n",
       "      <td>None</td>\n",
       "      <td>None</td>\n",
       "      <td>None</td>\n",
       "      <td>None</td>\n",
       "      <td>None</td>\n",
       "      <td>None</td>\n",
       "      <td>None</td>\n",
       "      <td>None</td>\n",
       "      <td>None</td>\n",
       "      <td>NaN</td>\n",
       "      <td>NaN</td>\n",
       "      <td>None</td>\n",
       "    </tr>\n",
       "    <tr>\n",
       "      <th>4</th>\n",
       "      <td>None</td>\n",
       "      <td>None</td>\n",
       "      <td>None</td>\n",
       "      <td>None</td>\n",
       "      <td>None</td>\n",
       "      <td>None</td>\n",
       "      <td>None</td>\n",
       "      <td>None</td>\n",
       "      <td>None</td>\n",
       "      <td>None</td>\n",
       "      <td>NaN</td>\n",
       "      <td>NaN</td>\n",
       "      <td>None</td>\n",
       "    </tr>\n",
       "  </tbody>\n",
       "</table>\n",
       "</div>"
      ],
      "text/plain": [
       "  publisher genres app_name title   url release_date  tags reviews_url specs  \\\n",
       "0      None   None     None  None  None         None  None        None  None   \n",
       "1      None   None     None  None  None         None  None        None  None   \n",
       "2      None   None     None  None  None         None  None        None  None   \n",
       "3      None   None     None  None  None         None  None        None  None   \n",
       "4      None   None     None  None  None         None  None        None  None   \n",
       "\n",
       "  price  early_access  id developer  \n",
       "0  None           NaN NaN      None  \n",
       "1  None           NaN NaN      None  \n",
       "2  None           NaN NaN      None  \n",
       "3  None           NaN NaN      None  \n",
       "4  None           NaN NaN      None  "
      ]
     },
     "execution_count": 15,
     "metadata": {},
     "output_type": "execute_result"
    }
   ],
   "source": [
    "# Se abre el archivo de \"Steam Games\" y se convierte a un dataframe de pandas.\n",
    "games = pd.read_json(ruta_games,compression=\"gzip\",lines = True)\n",
    "# Se obtiene la visualización de los primeros datos de la base.\n",
    "games.head()"
   ]
  },
  {
   "cell_type": "code",
   "execution_count": 16,
   "metadata": {},
   "outputs": [],
   "source": [
    "# Se eliminan las filas cuyos datos sean todos nulos (ya que no nos proporcionan información sobre el juego).\n",
    "games.dropna(how = \"all\", inplace = True)"
   ]
  },
  {
   "cell_type": "code",
   "execution_count": 17,
   "metadata": {},
   "outputs": [],
   "source": [
    "# Se deciden eliminar las columnas \"publisher\", \"tags\",\"url\",\"reviews_url\",\"early_access\", \"title\",\"specs\",\"price\",\"developer\" ya que no proporcionan información relevante para las consultas a realizar o resulta redundante.\n",
    "games.drop(columns=[\"publisher\", \"tags\",\"url\",\"reviews_url\",\"early_access\",\"title\",\"specs\",\"price\",\"developer\"],inplace=True)"
   ]
  },
  {
   "cell_type": "code",
   "execution_count": 19,
   "metadata": {},
   "outputs": [],
   "source": [
    "# Se eliminan los valores vacíos de \"release_date\", ya que no nos proporcionan información relevante sobre el juego.\n",
    "games = games.dropna(subset=[\"release_date\"])"
   ]
  },
  {
   "cell_type": "code",
   "execution_count": 21,
   "metadata": {},
   "outputs": [],
   "source": [
    "# Se revisa que los datos restantes para la columna \"release_date\" sean fechas válidas dejando la información en una nueva columna llamada \"review_date\"\n",
    "games.insert(3,\"review_date\",games[\"release_date\"].apply(es_fecha))"
   ]
  },
  {
   "cell_type": "code",
   "execution_count": 23,
   "metadata": {},
   "outputs": [],
   "source": [
    "# Se elimina la columna de \"release_date\", se cambia el nombre de la nueva columna (\"review_date\") a \"release_date\" y se eliminan los datos nulos. \n",
    "games.drop(columns=\"release_date\",inplace=True)\n",
    "games.rename(columns={\"review_date\":\"release_date\"},inplace=True)\n",
    "games.dropna(subset=[\"release_date\"],inplace=True)"
   ]
  },
  {
   "cell_type": "code",
   "execution_count": 26,
   "metadata": {},
   "outputs": [],
   "source": [
    "# Se eliminan los valores nulos de id.\n",
    "games.dropna(subset=[\"id\"],inplace=True)"
   ]
  },
  {
   "cell_type": "code",
   "execution_count": 28,
   "metadata": {},
   "outputs": [],
   "source": [
    "# Se transforman los valores de id a entero\n",
    "games[\"id\"] = games[\"id\"].astype(int)"
   ]
  },
  {
   "cell_type": "code",
   "execution_count": 30,
   "metadata": {},
   "outputs": [],
   "source": [
    "# Se deciden eliminar todos los valores nulos de \"genres\"\n",
    "games.dropna(subset=[\"genres\"],inplace=True)"
   ]
  },
  {
   "cell_type": "code",
   "execution_count": 32,
   "metadata": {},
   "outputs": [],
   "source": [
    "# Se aseguran que los datos estén en los formatos adecuados\n",
    "games[\"release_date\"] = pd.to_datetime(games[\"release_date\"])\n",
    "games[\"id\"] = games[\"id\"].astype(int)"
   ]
  },
  {
   "cell_type": "code",
   "execution_count": 33,
   "metadata": {},
   "outputs": [
    {
     "name": "stdout",
     "output_type": "stream",
     "text": [
      "<class 'pandas.core.frame.DataFrame'>\n",
      "Index: 28660 entries, 88310 to 120443\n",
      "Data columns (total 4 columns):\n",
      " #   Column        Non-Null Count  Dtype         \n",
      "---  ------        --------------  -----         \n",
      " 0   genres        28660 non-null  object        \n",
      " 1   app_name      28659 non-null  object        \n",
      " 2   release_date  28660 non-null  datetime64[ns]\n",
      " 3   id            28660 non-null  int32         \n",
      "dtypes: datetime64[ns](1), int32(1), object(2)\n",
      "memory usage: 1007.6+ KB\n"
     ]
    }
   ],
   "source": [
    "# Se revisa la información obtenida.\n",
    "games.info()"
   ]
  },
  {
   "cell_type": "code",
   "execution_count": 31,
   "metadata": {},
   "outputs": [
    {
     "data": {
      "text/html": [
       "<div>\n",
       "<style scoped>\n",
       "    .dataframe tbody tr th:only-of-type {\n",
       "        vertical-align: middle;\n",
       "    }\n",
       "\n",
       "    .dataframe tbody tr th {\n",
       "        vertical-align: top;\n",
       "    }\n",
       "\n",
       "    .dataframe thead th {\n",
       "        text-align: right;\n",
       "    }\n",
       "</style>\n",
       "<table border=\"1\" class=\"dataframe\">\n",
       "  <thead>\n",
       "    <tr style=\"text-align: right;\">\n",
       "      <th></th>\n",
       "      <th>genres</th>\n",
       "      <th>app_name</th>\n",
       "      <th>release_date</th>\n",
       "      <th>id</th>\n",
       "    </tr>\n",
       "  </thead>\n",
       "  <tbody>\n",
       "    <tr>\n",
       "      <th>88310</th>\n",
       "      <td>[Action, Casual, Indie, Simulation, Strategy]</td>\n",
       "      <td>Lost Summoner Kitty</td>\n",
       "      <td>2018-01-04</td>\n",
       "      <td>761140</td>\n",
       "    </tr>\n",
       "    <tr>\n",
       "      <th>88311</th>\n",
       "      <td>[Free to Play, Indie, RPG, Strategy]</td>\n",
       "      <td>Ironbound</td>\n",
       "      <td>2018-01-04</td>\n",
       "      <td>643980</td>\n",
       "    </tr>\n",
       "    <tr>\n",
       "      <th>88312</th>\n",
       "      <td>[Casual, Free to Play, Indie, Simulation, Sports]</td>\n",
       "      <td>Real Pool 3D - Poolians</td>\n",
       "      <td>2017-07-24</td>\n",
       "      <td>670290</td>\n",
       "    </tr>\n",
       "    <tr>\n",
       "      <th>88313</th>\n",
       "      <td>[Action, Adventure, Casual]</td>\n",
       "      <td>弹炸人2222</td>\n",
       "      <td>2017-12-07</td>\n",
       "      <td>767400</td>\n",
       "    </tr>\n",
       "    <tr>\n",
       "      <th>88315</th>\n",
       "      <td>[Action, Adventure, Simulation]</td>\n",
       "      <td>Battle Royale Trainer</td>\n",
       "      <td>2018-01-04</td>\n",
       "      <td>772540</td>\n",
       "    </tr>\n",
       "  </tbody>\n",
       "</table>\n",
       "</div>"
      ],
      "text/plain": [
       "                                                  genres  \\\n",
       "88310      [Action, Casual, Indie, Simulation, Strategy]   \n",
       "88311               [Free to Play, Indie, RPG, Strategy]   \n",
       "88312  [Casual, Free to Play, Indie, Simulation, Sports]   \n",
       "88313                        [Action, Adventure, Casual]   \n",
       "88315                    [Action, Adventure, Simulation]   \n",
       "\n",
       "                      app_name release_date      id  \n",
       "88310      Lost Summoner Kitty   2018-01-04  761140  \n",
       "88311                Ironbound   2018-01-04  643980  \n",
       "88312  Real Pool 3D - Poolians   2017-07-24  670290  \n",
       "88313                  弹炸人2222   2017-12-07  767400  \n",
       "88315    Battle Royale Trainer   2018-01-04  772540  "
      ]
     },
     "execution_count": 31,
     "metadata": {},
     "output_type": "execute_result"
    }
   ],
   "source": [
    "# Se observa el dataframe obtenido.\n",
    "games.head()"
   ]
  },
  {
   "cell_type": "code",
   "execution_count": 35,
   "metadata": {},
   "outputs": [],
   "source": [
    "# Se guarda la base de datos corregida\n",
    "guardar_archivo(games,\"../Data/corregida/r_games.json.gzip\")"
   ]
  },
  {
   "cell_type": "code",
   "execution_count": 37,
   "metadata": {},
   "outputs": [
    {
     "data": {
      "text/html": [
       "<div>\n",
       "<style scoped>\n",
       "    .dataframe tbody tr th:only-of-type {\n",
       "        vertical-align: middle;\n",
       "    }\n",
       "\n",
       "    .dataframe tbody tr th {\n",
       "        vertical-align: top;\n",
       "    }\n",
       "\n",
       "    .dataframe thead th {\n",
       "        text-align: right;\n",
       "    }\n",
       "</style>\n",
       "<table border=\"1\" class=\"dataframe\">\n",
       "  <thead>\n",
       "    <tr style=\"text-align: right;\">\n",
       "      <th></th>\n",
       "      <th>genres</th>\n",
       "      <th>app_name</th>\n",
       "      <th>release_date</th>\n",
       "      <th>id</th>\n",
       "    </tr>\n",
       "  </thead>\n",
       "  <tbody>\n",
       "    <tr>\n",
       "      <th>88310</th>\n",
       "      <td>[Action, Casual, Indie, Simulation, Strategy]</td>\n",
       "      <td>Lost Summoner Kitty</td>\n",
       "      <td>2018-01-04</td>\n",
       "      <td>761140</td>\n",
       "    </tr>\n",
       "    <tr>\n",
       "      <th>88311</th>\n",
       "      <td>[Free to Play, Indie, RPG, Strategy]</td>\n",
       "      <td>Ironbound</td>\n",
       "      <td>2018-01-04</td>\n",
       "      <td>643980</td>\n",
       "    </tr>\n",
       "    <tr>\n",
       "      <th>88312</th>\n",
       "      <td>[Casual, Free to Play, Indie, Simulation, Sports]</td>\n",
       "      <td>Real Pool 3D - Poolians</td>\n",
       "      <td>2017-07-24</td>\n",
       "      <td>670290</td>\n",
       "    </tr>\n",
       "    <tr>\n",
       "      <th>88313</th>\n",
       "      <td>[Action, Adventure, Casual]</td>\n",
       "      <td>弹炸人2222</td>\n",
       "      <td>2017-12-07</td>\n",
       "      <td>767400</td>\n",
       "    </tr>\n",
       "    <tr>\n",
       "      <th>88315</th>\n",
       "      <td>[Action, Adventure, Simulation]</td>\n",
       "      <td>Battle Royale Trainer</td>\n",
       "      <td>2018-01-04</td>\n",
       "      <td>772540</td>\n",
       "    </tr>\n",
       "  </tbody>\n",
       "</table>\n",
       "</div>"
      ],
      "text/plain": [
       "                                                  genres  \\\n",
       "88310      [Action, Casual, Indie, Simulation, Strategy]   \n",
       "88311               [Free to Play, Indie, RPG, Strategy]   \n",
       "88312  [Casual, Free to Play, Indie, Simulation, Sports]   \n",
       "88313                        [Action, Adventure, Casual]   \n",
       "88315                    [Action, Adventure, Simulation]   \n",
       "\n",
       "                      app_name release_date      id  \n",
       "88310      Lost Summoner Kitty   2018-01-04  761140  \n",
       "88311                Ironbound   2018-01-04  643980  \n",
       "88312  Real Pool 3D - Poolians   2017-07-24  670290  \n",
       "88313                  弹炸人2222   2017-12-07  767400  \n",
       "88315    Battle Royale Trainer   2018-01-04  772540  "
      ]
     },
     "execution_count": 37,
     "metadata": {},
     "output_type": "execute_result"
    }
   ],
   "source": [
    "# Se observa que el dataset cargue correctamente.\n",
    "games_n = pd.read_json(\"../Data/corregida/r_games.json.gzip\",compression=\"gzip\",convert_dates=['release_date'],date_unit=\"ms\")\n",
    "games_n.head()"
   ]
  },
  {
   "cell_type": "markdown",
   "metadata": {},
   "source": [
    "## Reviews"
   ]
  },
  {
   "cell_type": "code",
   "execution_count": null,
   "metadata": {},
   "outputs": [],
   "source": []
  },
  {
   "cell_type": "markdown",
   "metadata": {},
   "source": [
    "## Items"
   ]
  },
  {
   "cell_type": "code",
   "execution_count": null,
   "metadata": {},
   "outputs": [],
   "source": []
  }
 ],
 "metadata": {
  "kernelspec": {
   "display_name": "Python 3",
   "language": "python",
   "name": "python3"
  },
  "language_info": {
   "codemirror_mode": {
    "name": "ipython",
    "version": 3
   },
   "file_extension": ".py",
   "mimetype": "text/x-python",
   "name": "python",
   "nbconvert_exporter": "python",
   "pygments_lexer": "ipython3",
   "version": "3.11.8"
  }
 },
 "nbformat": 4,
 "nbformat_minor": 2
}
