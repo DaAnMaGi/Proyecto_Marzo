{
 "cells": [
  {
   "cell_type": "markdown",
   "metadata": {},
   "source": [
    "# Revisión y exploración de bases de datos."
   ]
  },
  {
   "cell_type": "markdown",
   "metadata": {},
   "source": [
    "## Importación librerías"
   ]
  },
  {
   "cell_type": "code",
   "execution_count": 72,
   "metadata": {},
   "outputs": [],
   "source": [
    "import pandas as pd\n",
    "import seaborn as sns\n",
    "import matplotlib.pyplot as plt"
   ]
  },
  {
   "cell_type": "markdown",
   "metadata": {},
   "source": [
    "## Importación bases de datos"
   ]
  },
  {
   "cell_type": "code",
   "execution_count": 2,
   "metadata": {},
   "outputs": [],
   "source": [
    "# Games\n",
    "games = pd.read_parquet(\"../Data/final/games_final.parquet\")\n",
    "# Reviews\n",
    "reviews = pd.read_parquet(\"../Data/final/reviews_final.parquet\")\n",
    "# Items\n",
    "items = pd.read_parquet(\"../Data/final/items_final.parquet\")"
   ]
  },
  {
   "cell_type": "markdown",
   "metadata": {},
   "source": [
    "## Exploración"
   ]
  },
  {
   "cell_type": "code",
   "execution_count": null,
   "metadata": {},
   "outputs": [],
   "source": [
    "# Se deciden unir todas las bases de datos en un mismo dataframe en el que se especifiquen: \n",
    "    # Horas totales jugadas para el juego.\n",
    "    # Número de recomendaciones (Recommend = True)\n",
    "    # Número de no recomendaciones (Recommend = False)\n",
    "    # Puntaje de análisis de sentimiento (sentiment_analysis)"
   ]
  },
  {
   "cell_type": "code",
   "execution_count": 24,
   "metadata": {},
   "outputs": [],
   "source": [
    "# Con este propósito, se identifica el número de recomendaciones positivas por juego:\n",
    "positivas = reviews[reviews[\"recommend\"] == True]\n",
    "positivas = positivas.groupby(\"item_id\")[\"recommend\"].count().reset_index()\n",
    "\n",
    "# El número de recomendaciones negativas:\n",
    "negativas = reviews[reviews[\"recommend\"] == False]\n",
    "negativas = negativas.groupby(\"item_id\")[\"recommend\"].count().reset_index()\n",
    "\n",
    "# El puntaje de análisis de sentimiento:\n",
    "sentimiento = reviews[[\"item_id\",\"sentiment_analysis\"]]\n",
    "sentimiento = sentimiento.groupby(\"item_id\").sum().reset_index()\n",
    "\n",
    "# Las horas totales jugadas por juego\n",
    "horas = items.groupby(\"item_id\")[\"playtime_forever\"].sum().reset_index()\n"
   ]
  },
  {
   "cell_type": "code",
   "execution_count": 62,
   "metadata": {},
   "outputs": [],
   "source": [
    "# Se crea el dataframe uniendo la información obtenida en el punto anterior.\n",
    "tot1 = pd.merge(games,positivas,how=\"left\",left_on=\"id\",right_on=\"item_id\") # Se une games y sus resultados de reviews positivas.\n",
    "tot2 = pd.merge(tot1,negativas,how=\"left\",left_on=\"id\",right_on=\"item_id\") # Se unen el dataframe total (tot) con los resultados de las reviews negativas.\n",
    "tot3 = pd.merge(tot2,sentimiento,how=\"left\",left_on=\"id\",right_on=\"item_id\") # Se unen el dataframe total con los resultados del análisis de sentimiento.\n",
    "tot3.drop(columns=[\"item_id_x\",\"item_id_y\",\"item_id\"],inplace=True) # Se eliminan del dataframe total las columnas repetidas de item_id.\n",
    "total = pd.merge(tot3,horas,how=\"left\",left_on=\"id\",right_on=\"item_id\") # Se unen el dataframe total con los resultados de la suma de horas totales jugadas por juego.\n",
    "total.drop(columns=\"item_id\",inplace=True) # Se elimina la columna repetida de item_id.\n",
    "\n",
    "# Se cambian los nombres de las columnas para que sean más representativas\n",
    "total.rename(columns={\"recommend_x\":\"recommend\",\"recommend_y\":\"no_recommend\"},inplace=True)\n",
    "\n",
    "# Se eliminan del dataframe todos los juegos que no tengan información en ninguno de los 4 datos agregados (recommend, no_recommend, sentiment_analysis, playtime_forever)\n",
    "total_l = total.dropna(subset=[\"recommend\",\"no_recommend\",\"sentiment_analysis\",\"playtime_forever\"],how=\"all\")"
   ]
  },
  {
   "cell_type": "code",
   "execution_count": 68,
   "metadata": {},
   "outputs": [
    {
     "data": {
      "text/html": [
       "<div>\n",
       "<style scoped>\n",
       "    .dataframe tbody tr th:only-of-type {\n",
       "        vertical-align: middle;\n",
       "    }\n",
       "\n",
       "    .dataframe tbody tr th {\n",
       "        vertical-align: top;\n",
       "    }\n",
       "\n",
       "    .dataframe thead th {\n",
       "        text-align: right;\n",
       "    }\n",
       "</style>\n",
       "<table border=\"1\" class=\"dataframe\">\n",
       "  <thead>\n",
       "    <tr style=\"text-align: right;\">\n",
       "      <th></th>\n",
       "      <th>id</th>\n",
       "      <th>genres</th>\n",
       "      <th>app_name</th>\n",
       "      <th>release_date</th>\n",
       "      <th>recommend</th>\n",
       "      <th>no_recommend</th>\n",
       "      <th>sentiment_analysis</th>\n",
       "      <th>playtime_forever</th>\n",
       "    </tr>\n",
       "  </thead>\n",
       "  <tbody>\n",
       "    <tr>\n",
       "      <th>0</th>\n",
       "      <td>10</td>\n",
       "      <td>[Action]</td>\n",
       "      <td>Counter-Strike</td>\n",
       "      <td>2000-11-01</td>\n",
       "      <td>29.0</td>\n",
       "      <td>1.0</td>\n",
       "      <td>50.0</td>\n",
       "      <td>51279.69</td>\n",
       "    </tr>\n",
       "    <tr>\n",
       "      <th>1</th>\n",
       "      <td>20</td>\n",
       "      <td>[Action]</td>\n",
       "      <td>Team Fortress Classic</td>\n",
       "      <td>1999-04-01</td>\n",
       "      <td>6.0</td>\n",
       "      <td>5.0</td>\n",
       "      <td>17.0</td>\n",
       "      <td>6363.10</td>\n",
       "    </tr>\n",
       "    <tr>\n",
       "      <th>2</th>\n",
       "      <td>30</td>\n",
       "      <td>[Action]</td>\n",
       "      <td>Day of Defeat</td>\n",
       "      <td>2003-05-01</td>\n",
       "      <td>3.0</td>\n",
       "      <td>NaN</td>\n",
       "      <td>5.0</td>\n",
       "      <td>6596.96</td>\n",
       "    </tr>\n",
       "    <tr>\n",
       "      <th>3</th>\n",
       "      <td>40</td>\n",
       "      <td>[Action]</td>\n",
       "      <td>Deathmatch Classic</td>\n",
       "      <td>2001-06-01</td>\n",
       "      <td>1.0</td>\n",
       "      <td>NaN</td>\n",
       "      <td>2.0</td>\n",
       "      <td>845.33</td>\n",
       "    </tr>\n",
       "    <tr>\n",
       "      <th>4</th>\n",
       "      <td>50</td>\n",
       "      <td>[Action]</td>\n",
       "      <td>Half-Life: Opposing Force</td>\n",
       "      <td>1999-11-01</td>\n",
       "      <td>3.0</td>\n",
       "      <td>1.0</td>\n",
       "      <td>5.0</td>\n",
       "      <td>5082.69</td>\n",
       "    </tr>\n",
       "    <tr>\n",
       "      <th>...</th>\n",
       "      <td>...</td>\n",
       "      <td>...</td>\n",
       "      <td>...</td>\n",
       "      <td>...</td>\n",
       "      <td>...</td>\n",
       "      <td>...</td>\n",
       "      <td>...</td>\n",
       "      <td>...</td>\n",
       "    </tr>\n",
       "    <tr>\n",
       "      <th>18068</th>\n",
       "      <td>526460</td>\n",
       "      <td>[Action, Adventure, Casual, Indie]</td>\n",
       "      <td>KickHim</td>\n",
       "      <td>2016-09-10</td>\n",
       "      <td>NaN</td>\n",
       "      <td>NaN</td>\n",
       "      <td>NaN</td>\n",
       "      <td>0.02</td>\n",
       "    </tr>\n",
       "    <tr>\n",
       "      <th>18113</th>\n",
       "      <td>527340</td>\n",
       "      <td>[Action, Indie]</td>\n",
       "      <td>What The Box?</td>\n",
       "      <td>2016-09-12</td>\n",
       "      <td>1.0</td>\n",
       "      <td>NaN</td>\n",
       "      <td>2.0</td>\n",
       "      <td>9.06</td>\n",
       "    </tr>\n",
       "    <tr>\n",
       "      <th>18130</th>\n",
       "      <td>527510</td>\n",
       "      <td>[Casual, Indie, Simulation, Strategy]</td>\n",
       "      <td>The Legions of Rome</td>\n",
       "      <td>2016-09-16</td>\n",
       "      <td>NaN</td>\n",
       "      <td>NaN</td>\n",
       "      <td>NaN</td>\n",
       "      <td>3.10</td>\n",
       "    </tr>\n",
       "    <tr>\n",
       "      <th>18142</th>\n",
       "      <td>527890</td>\n",
       "      <td>[Casual, Simulation]</td>\n",
       "      <td>Shop-n-Spree: Shopping Paradise</td>\n",
       "      <td>2016-09-12</td>\n",
       "      <td>NaN</td>\n",
       "      <td>NaN</td>\n",
       "      <td>NaN</td>\n",
       "      <td>0.02</td>\n",
       "    </tr>\n",
       "    <tr>\n",
       "      <th>18143</th>\n",
       "      <td>527900</td>\n",
       "      <td>[Adventure, Casual]</td>\n",
       "      <td>Grim Tales: The Bride Collector's Edition</td>\n",
       "      <td>2016-09-14</td>\n",
       "      <td>NaN</td>\n",
       "      <td>NaN</td>\n",
       "      <td>NaN</td>\n",
       "      <td>0.73</td>\n",
       "    </tr>\n",
       "  </tbody>\n",
       "</table>\n",
       "<p>7739 rows × 8 columns</p>\n",
       "</div>"
      ],
      "text/plain": [
       "           id                                 genres  \\\n",
       "0          10                               [Action]   \n",
       "1          20                               [Action]   \n",
       "2          30                               [Action]   \n",
       "3          40                               [Action]   \n",
       "4          50                               [Action]   \n",
       "...       ...                                    ...   \n",
       "18068  526460     [Action, Adventure, Casual, Indie]   \n",
       "18113  527340                        [Action, Indie]   \n",
       "18130  527510  [Casual, Indie, Simulation, Strategy]   \n",
       "18142  527890                   [Casual, Simulation]   \n",
       "18143  527900                    [Adventure, Casual]   \n",
       "\n",
       "                                        app_name release_date  recommend  \\\n",
       "0                                 Counter-Strike   2000-11-01       29.0   \n",
       "1                          Team Fortress Classic   1999-04-01        6.0   \n",
       "2                                  Day of Defeat   2003-05-01        3.0   \n",
       "3                             Deathmatch Classic   2001-06-01        1.0   \n",
       "4                      Half-Life: Opposing Force   1999-11-01        3.0   \n",
       "...                                          ...          ...        ...   \n",
       "18068                                    KickHim   2016-09-10        NaN   \n",
       "18113                              What The Box?   2016-09-12        1.0   \n",
       "18130                        The Legions of Rome   2016-09-16        NaN   \n",
       "18142            Shop-n-Spree: Shopping Paradise   2016-09-12        NaN   \n",
       "18143  Grim Tales: The Bride Collector's Edition   2016-09-14        NaN   \n",
       "\n",
       "       no_recommend  sentiment_analysis  playtime_forever  \n",
       "0               1.0                50.0          51279.69  \n",
       "1               5.0                17.0           6363.10  \n",
       "2               NaN                 5.0           6596.96  \n",
       "3               NaN                 2.0            845.33  \n",
       "4               1.0                 5.0           5082.69  \n",
       "...             ...                 ...               ...  \n",
       "18068           NaN                 NaN              0.02  \n",
       "18113           NaN                 2.0              9.06  \n",
       "18130           NaN                 NaN              3.10  \n",
       "18142           NaN                 NaN              0.02  \n",
       "18143           NaN                 NaN              0.73  \n",
       "\n",
       "[7739 rows x 8 columns]"
      ]
     },
     "execution_count": 68,
     "metadata": {},
     "output_type": "execute_result"
    }
   ],
   "source": [
    "# Se observa el dataframe final\n",
    "total_l"
   ]
  },
  {
   "cell_type": "code",
   "execution_count": 65,
   "metadata": {},
   "outputs": [
    {
     "name": "stdout",
     "output_type": "stream",
     "text": [
      "<class 'pandas.core.frame.DataFrame'>\n",
      "Index: 7739 entries, 0 to 18143\n",
      "Data columns (total 8 columns):\n",
      " #   Column              Non-Null Count  Dtype         \n",
      "---  ------              --------------  -----         \n",
      " 0   id                  7739 non-null   int64         \n",
      " 1   genres              7739 non-null   object        \n",
      " 2   app_name            7739 non-null   object        \n",
      " 3   release_date        7739 non-null   datetime64[ns]\n",
      " 4   recommend           2481 non-null   float64       \n",
      " 5   no_recommend        1169 non-null   float64       \n",
      " 6   sentiment_analysis  2771 non-null   float64       \n",
      " 7   playtime_forever    7523 non-null   float64       \n",
      "dtypes: datetime64[ns](1), float64(4), int64(1), object(2)\n",
      "memory usage: 544.1+ KB\n"
     ]
    }
   ],
   "source": [
    "# Se observa información sobre la base obtenida.\n",
    "total_l.info()"
   ]
  },
  {
   "cell_type": "code",
   "execution_count": 69,
   "metadata": {},
   "outputs": [
    {
     "data": {
      "text/html": [
       "<div>\n",
       "<style scoped>\n",
       "    .dataframe tbody tr th:only-of-type {\n",
       "        vertical-align: middle;\n",
       "    }\n",
       "\n",
       "    .dataframe tbody tr th {\n",
       "        vertical-align: top;\n",
       "    }\n",
       "\n",
       "    .dataframe thead th {\n",
       "        text-align: right;\n",
       "    }\n",
       "</style>\n",
       "<table border=\"1\" class=\"dataframe\">\n",
       "  <thead>\n",
       "    <tr style=\"text-align: right;\">\n",
       "      <th></th>\n",
       "      <th>id</th>\n",
       "      <th>release_date</th>\n",
       "      <th>recommend</th>\n",
       "      <th>no_recommend</th>\n",
       "      <th>sentiment_analysis</th>\n",
       "      <th>playtime_forever</th>\n",
       "    </tr>\n",
       "  </thead>\n",
       "  <tbody>\n",
       "    <tr>\n",
       "      <th>count</th>\n",
       "      <td>7739.000000</td>\n",
       "      <td>7739</td>\n",
       "      <td>2481.000000</td>\n",
       "      <td>1169.000000</td>\n",
       "      <td>2771.000000</td>\n",
       "      <td>7.523000e+03</td>\n",
       "    </tr>\n",
       "    <tr>\n",
       "      <th>mean</th>\n",
       "      <td>296783.455098</td>\n",
       "      <td>2013-06-07 04:08:57.743894528</td>\n",
       "      <td>13.300282</td>\n",
       "      <td>3.608212</td>\n",
       "      <td>20.233129</td>\n",
       "      <td>3.608617e+03</td>\n",
       "    </tr>\n",
       "    <tr>\n",
       "      <th>min</th>\n",
       "      <td>10.000000</td>\n",
       "      <td>1983-06-19 00:00:00</td>\n",
       "      <td>1.000000</td>\n",
       "      <td>1.000000</td>\n",
       "      <td>0.000000</td>\n",
       "      <td>2.000000e-02</td>\n",
       "    </tr>\n",
       "    <tr>\n",
       "      <th>25%</th>\n",
       "      <td>243460.000000</td>\n",
       "      <td>2012-10-16 00:00:00</td>\n",
       "      <td>1.000000</td>\n",
       "      <td>1.000000</td>\n",
       "      <td>2.000000</td>\n",
       "      <td>9.800000e+00</td>\n",
       "    </tr>\n",
       "    <tr>\n",
       "      <th>50%</th>\n",
       "      <td>324160.000000</td>\n",
       "      <td>2015-01-26 00:00:00</td>\n",
       "      <td>2.000000</td>\n",
       "      <td>1.000000</td>\n",
       "      <td>3.000000</td>\n",
       "      <td>5.430000e+01</td>\n",
       "    </tr>\n",
       "    <tr>\n",
       "      <th>75%</th>\n",
       "      <td>390300.000000</td>\n",
       "      <td>2015-12-15 00:00:00</td>\n",
       "      <td>6.000000</td>\n",
       "      <td>3.000000</td>\n",
       "      <td>9.000000</td>\n",
       "      <td>2.475350e+02</td>\n",
       "    </tr>\n",
       "    <tr>\n",
       "      <th>max</th>\n",
       "      <td>527900.000000</td>\n",
       "      <td>2018-12-01 00:00:00</td>\n",
       "      <td>2323.000000</td>\n",
       "      <td>212.000000</td>\n",
       "      <td>3878.000000</td>\n",
       "      <td>4.800734e+06</td>\n",
       "    </tr>\n",
       "    <tr>\n",
       "      <th>std</th>\n",
       "      <td>134100.818751</td>\n",
       "      <td>NaN</td>\n",
       "      <td>77.559450</td>\n",
       "      <td>10.480190</td>\n",
       "      <td>120.127564</td>\n",
       "      <td>7.106010e+04</td>\n",
       "    </tr>\n",
       "  </tbody>\n",
       "</table>\n",
       "</div>"
      ],
      "text/plain": [
       "                  id                   release_date    recommend  \\\n",
       "count    7739.000000                           7739  2481.000000   \n",
       "mean   296783.455098  2013-06-07 04:08:57.743894528    13.300282   \n",
       "min        10.000000            1983-06-19 00:00:00     1.000000   \n",
       "25%    243460.000000            2012-10-16 00:00:00     1.000000   \n",
       "50%    324160.000000            2015-01-26 00:00:00     2.000000   \n",
       "75%    390300.000000            2015-12-15 00:00:00     6.000000   \n",
       "max    527900.000000            2018-12-01 00:00:00  2323.000000   \n",
       "std    134100.818751                            NaN    77.559450   \n",
       "\n",
       "       no_recommend  sentiment_analysis  playtime_forever  \n",
       "count   1169.000000         2771.000000      7.523000e+03  \n",
       "mean       3.608212           20.233129      3.608617e+03  \n",
       "min        1.000000            0.000000      2.000000e-02  \n",
       "25%        1.000000            2.000000      9.800000e+00  \n",
       "50%        1.000000            3.000000      5.430000e+01  \n",
       "75%        3.000000            9.000000      2.475350e+02  \n",
       "max      212.000000         3878.000000      4.800734e+06  \n",
       "std       10.480190          120.127564      7.106010e+04  "
      ]
     },
     "execution_count": 69,
     "metadata": {},
     "output_type": "execute_result"
    }
   ],
   "source": [
    "# Se ve la información estadística de las variables nominales.\n",
    "total_l.describe()"
   ]
  },
  {
   "cell_type": "markdown",
   "metadata": {},
   "source": [
    "Se desean conocer las variaciones de los diferentes tipos de datos por la categoría a la que pertenecen."
   ]
  },
  {
   "cell_type": "code",
   "execution_count": 83,
   "metadata": {},
   "outputs": [],
   "source": [
    "# Se hace un explode en los géneros con el propósito de conocer variaciones en los datos por género.\n",
    "total_generos = total_l.explode(\"genres\")\n",
    "total_generos = total_generos.groupby([\"genres\",\"id\"])[[\"recommend\",\"no_recommend\",\"sentiment_analysis\",\"playtime_forever\"]].sum().reset_index()"
   ]
  },
  {
   "cell_type": "code",
   "execution_count": 84,
   "metadata": {},
   "outputs": [
    {
     "data": {
      "image/png": "[encoded data removed]",
      "text/plain": [
       "<Figure size 640x480 with 1 Axes>"
      ]
     },
     "metadata": {},
     "output_type": "display_data"
    }
   ],
   "source": [
    "# Por el total de horas jugadas.\n",
    "sns.boxplot(data=total_generos,x=\"genres\",y=\"playtime_forever\")\n",
    "plt.title(\"Botplox de horas jugadas por género\")\n",
    "plt.show()"
   ]
  },
  {
   "cell_type": "code",
   "execution_count": 85,
   "metadata": {},
   "outputs": [
    {
     "data": {
      "image/png": "[encoded data removed]",
      "text/plain": [
       "<Figure size 640x480 with 1 Axes>"
      ]
     },
     "metadata": {},
     "output_type": "display_data"
    }
   ],
   "source": [
    "# Por el total de recomendaciones.\n",
    "sns.boxplot(data=total_generos,x=\"genres\",y=\"recommend\")\n",
    "plt.title(\"Botplox de recomendaciones por género\")\n",
    "plt.show()"
   ]
  },
  {
   "cell_type": "code",
   "execution_count": null,
   "metadata": {},
   "outputs": [],
   "source": []
  }
 ],
 "metadata": {
  "kernelspec": {
   "display_name": "Python 3",
   "language": "python",
   "name": "python3"
  },
  "language_info": {
   "codemirror_mode": {
    "name": "ipython",
    "version": 3
   },
   "file_extension": ".py",
   "mimetype": "text/x-python",
   "name": "python",
   "nbconvert_exporter": "python",
   "pygments_lexer": "ipython3",
   "version": "3.11.8"
  }
 },
 "nbformat": 4,
 "nbformat_minor": 2
}
