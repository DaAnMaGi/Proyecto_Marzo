{
  "cells": [
    {
      "cell_type": "markdown",
      "metadata": {
        "id": "369e-r-xraIY"
      },
      "source": [
        "# Modelo del recomedación"
      ]
    },
    {
      "cell_type": "markdown",
      "metadata": {
        "id": "HchmZLFEraIh"
      },
      "source": [
        "## Importación de bases"
      ]
    },
    {
      "cell_type": "markdown",
      "metadata": {
        "id": "fNaXWV6YraIi"
      },
      "source": [
        "### Importación de librerías"
      ]
    },
    {
      "cell_type": "code",
      "execution_count": 1,
      "metadata": {
        "colab": {
          "base_uri": "https://localhost:8080/"
        },
        "id": "vekLhHyFraIk",
        "outputId": "bbe2f1ab-99d8-467e-e442-51d8f0a170c4"
      },
      "outputs": [
        {
          "name": "stdout",
          "output_type": "stream",
          "text": [
            "Requirement already satisfied: numpy in c:\\users\\dmon2\\appdata\\local\\packages\\pythonsoftwarefoundation.python.3.11_qbz5n2kfra8p0\\localcache\\local-packages\\python311\\site-packages (1.26.4)\n",
            "Requirement already satisfied: cython in c:\\users\\dmon2\\appdata\\local\\packages\\pythonsoftwarefoundation.python.3.11_qbz5n2kfra8p0\\localcache\\local-packages\\python311\\site-packages (3.0.9)\n",
            "Requirement already satisfied: wheel in c:\\users\\dmon2\\appdata\\local\\packages\\pythonsoftwarefoundation.python.3.11_qbz5n2kfra8p0\\localcache\\local-packages\\python311\\site-packages (0.43.0)\n",
            "Collecting scikit-surprise\n",
            "  Using cached scikit-surprise-1.1.3.tar.gz (771 kB)\n",
            "  Preparing metadata (setup.py): started\n",
            "  Preparing metadata (setup.py): finished with status 'done'\n",
            "Requirement already satisfied: joblib>=1.0.0 in c:\\users\\dmon2\\appdata\\local\\packages\\pythonsoftwarefoundation.python.3.11_qbz5n2kfra8p0\\localcache\\local-packages\\python311\\site-packages (from scikit-surprise) (1.3.2)\n",
            "Requirement already satisfied: numpy>=1.17.3 in c:\\users\\dmon2\\appdata\\local\\packages\\pythonsoftwarefoundation.python.3.11_qbz5n2kfra8p0\\localcache\\local-packages\\python311\\site-packages (from scikit-surprise) (1.26.4)\n",
            "Requirement already satisfied: scipy>=1.3.2 in c:\\users\\dmon2\\appdata\\local\\packages\\pythonsoftwarefoundation.python.3.11_qbz5n2kfra8p0\\localcache\\local-packages\\python311\\site-packages (from scikit-surprise) (1.11.2)\n",
            "Building wheels for collected packages: scikit-surprise\n",
            "  Building wheel for scikit-surprise (setup.py): started\n",
            "  Building wheel for scikit-surprise (setup.py): still running...\n",
            "  Building wheel for scikit-surprise (setup.py): finished with status 'done'\n",
            "  Created wheel for scikit-surprise: filename=scikit_surprise-1.1.3-cp311-cp311-win_amd64.whl size=1296846 sha256=dd3dc97b87bf99ea664b1ecf4df1fa036cdcb14782b96892acd6e16bfc366e80\n",
            "  Stored in directory: c:\\users\\dmon2\\appdata\\local\\pip\\cache\\wheels\\f4\\2b\\26\\e2a5eae55d3b7688995e66abe7f40473aac6c95ddd8ee174a8\n",
            "Successfully built scikit-surprise\n",
            "Installing collected packages: scikit-surprise\n",
            "Successfully installed scikit-surprise-1.1.3\n"
          ]
        }
      ],
      "source": [
        "! pip install numpy cython\n",
        "! pip install wheel\n",
        "! pip install scikit-surprise"
      ]
    },
    {
      "cell_type": "code",
      "execution_count": 2,
      "metadata": {
        "id": "XKXHjstTraIp"
      },
      "outputs": [],
      "source": [
        "# Importación de librerías\n",
        "import pandas as pd\n",
        "import numpy as np\n",
        "\n",
        "from surprise import Dataset, Reader\n",
        "from surprise import SVD\n",
        "from surprise.model_selection import cross_validate\n",
        "from surprise import dump"
      ]
    },
    {
      "cell_type": "markdown",
      "metadata": {
        "id": "Va1b9FmyraIq"
      },
      "source": [
        "### Importación de bases de datos"
      ]
    },
    {
      "cell_type": "code",
      "execution_count": 3,
      "metadata": {
        "id": "PSZ3YENQraIs"
      },
      "outputs": [],
      "source": [
        "# Este notebook fue trabajado desde Google Collabs, debido a dificultades para installar la librería surprise en el computador, por lo que se presentan rutas de archivo diferente para tratar de cargar las bases.\n",
        "\n",
        "# Desde la pc\n",
        "# base = pd.read_parquet(\"../Data/final/total_generos.parquet\")\n",
        "\n",
        "# Reviews\n",
        "reviews = pd.read_parquet(\"../Data/final/reviews_final.parquet\")\n",
        "# Games\n",
        "games = pd.read_parquet(\"../Data/final/games_final.parquet\")\n",
        "# items\n",
        "items = pd.read_parquet(\"../Data/final/items_final.parquet\")\n",
        "\n",
        "# En Google Colabs\n",
        "# Reviews\n",
        "#reviews = pd.read_parquet(\"/content/reviews_final.parquet\")\n",
        "# Games\n",
        "#games = pd.read_parquet(\"/content/games_final.parquet\")\n",
        "# items\n",
        "#items = pd.read_parquet(\"/content/items_final.parquet\")\n"
      ]
    },
    {
      "cell_type": "markdown",
      "metadata": {
        "id": "YhtZ_tnxraIt"
      },
      "source": [
        "## Creación del modelo de recomendación"
      ]
    },
    {
      "cell_type": "code",
      "execution_count": 4,
      "metadata": {
        "colab": {
          "base_uri": "https://localhost:8080/",
          "height": 424
        },
        "id": "f-bB-dZJraIv",
        "outputId": "40be4160-434f-437b-8bb6-cf53fcf4dea2"
      },
      "outputs": [
        {
          "data": {
            "text/html": [
              "<div>\n",
              "<style scoped>\n",
              "    .dataframe tbody tr th:only-of-type {\n",
              "        vertical-align: middle;\n",
              "    }\n",
              "\n",
              "    .dataframe tbody tr th {\n",
              "        vertical-align: top;\n",
              "    }\n",
              "\n",
              "    .dataframe thead th {\n",
              "        text-align: right;\n",
              "    }\n",
              "</style>\n",
              "<table border=\"1\" class=\"dataframe\">\n",
              "  <thead>\n",
              "    <tr style=\"text-align: right;\">\n",
              "      <th></th>\n",
              "      <th>user_id</th>\n",
              "      <th>item_id</th>\n",
              "      <th>sentiment_analysis</th>\n",
              "    </tr>\n",
              "  </thead>\n",
              "  <tbody>\n",
              "    <tr>\n",
              "      <th>0</th>\n",
              "      <td>76561197970982479</td>\n",
              "      <td>1250</td>\n",
              "      <td>2</td>\n",
              "    </tr>\n",
              "    <tr>\n",
              "      <th>1</th>\n",
              "      <td>76561197970982479</td>\n",
              "      <td>22200</td>\n",
              "      <td>1</td>\n",
              "    </tr>\n",
              "    <tr>\n",
              "      <th>4</th>\n",
              "      <td>js41637</td>\n",
              "      <td>227300</td>\n",
              "      <td>2</td>\n",
              "    </tr>\n",
              "    <tr>\n",
              "      <th>5</th>\n",
              "      <td>js41637</td>\n",
              "      <td>239030</td>\n",
              "      <td>2</td>\n",
              "    </tr>\n",
              "    <tr>\n",
              "      <th>6</th>\n",
              "      <td>evcentric</td>\n",
              "      <td>248820</td>\n",
              "      <td>1</td>\n",
              "    </tr>\n",
              "    <tr>\n",
              "      <th>...</th>\n",
              "      <td>...</td>\n",
              "      <td>...</td>\n",
              "      <td>...</td>\n",
              "    </tr>\n",
              "    <tr>\n",
              "      <th>57629</th>\n",
              "      <td>76561198312638244</td>\n",
              "      <td>233270</td>\n",
              "      <td>2</td>\n",
              "    </tr>\n",
              "    <tr>\n",
              "      <th>57630</th>\n",
              "      <td>76561198312638244</td>\n",
              "      <td>130</td>\n",
              "      <td>2</td>\n",
              "    </tr>\n",
              "    <tr>\n",
              "      <th>57631</th>\n",
              "      <td>76561198312638244</td>\n",
              "      <td>70</td>\n",
              "      <td>2</td>\n",
              "    </tr>\n",
              "    <tr>\n",
              "      <th>57632</th>\n",
              "      <td>76561198312638244</td>\n",
              "      <td>362890</td>\n",
              "      <td>2</td>\n",
              "    </tr>\n",
              "    <tr>\n",
              "      <th>57633</th>\n",
              "      <td>LydiaMorley</td>\n",
              "      <td>273110</td>\n",
              "      <td>2</td>\n",
              "    </tr>\n",
              "  </tbody>\n",
              "</table>\n",
              "<p>37216 rows × 3 columns</p>\n",
              "</div>"
            ],
            "text/plain": [
              "                 user_id  item_id  sentiment_analysis\n",
              "0      76561197970982479     1250                   2\n",
              "1      76561197970982479    22200                   1\n",
              "4                js41637   227300                   2\n",
              "5                js41637   239030                   2\n",
              "6              evcentric   248820                   1\n",
              "...                  ...      ...                 ...\n",
              "57629  76561198312638244   233270                   2\n",
              "57630  76561198312638244      130                   2\n",
              "57631  76561198312638244       70                   2\n",
              "57632  76561198312638244   362890                   2\n",
              "57633        LydiaMorley   273110                   2\n",
              "\n",
              "[37216 rows x 3 columns]"
            ]
          },
          "execution_count": 4,
          "metadata": {},
          "output_type": "execute_result"
        }
      ],
      "source": [
        "# Se revisa la base de datos de review para que el dataframe cumpla con las\n",
        "# estructuras que se pasan a surprise para crear un modelo de recomendación.\n",
        "r = reviews[[\"user_id\",\"item_id\",\"sentiment_analysis\"]]\n",
        "r"
      ]
    },
    {
      "cell_type": "code",
      "execution_count": 5,
      "metadata": {
        "id": "E-fFBxKeuJZx"
      },
      "outputs": [],
      "source": [
        "# Se crea el reader del modelo para parsear los datos necesarios para la\n",
        "# recomendación. En este caso, la escala de rating de recomendación se basa en\n",
        "# \"sentiment_analysis\", donde el menor dato es 0 y el mayor es 2.\n",
        "reader = Reader(rating_scale=[0,2])\n",
        "\n",
        "# Se instancian los datos que se usarán para el modelo de recomendación.\n",
        "datos = Dataset.load_from_df(r,reader)"
      ]
    },
    {
      "cell_type": "code",
      "execution_count": 6,
      "metadata": {
        "id": "DQYFVI-5vW0n"
      },
      "outputs": [],
      "source": [
        "# Se crea el modelo de recomendación.\n",
        "modelo = SVD()"
      ]
    },
    {
      "cell_type": "code",
      "execution_count": 7,
      "metadata": {
        "colab": {
          "base_uri": "https://localhost:8080/"
        },
        "id": "G_tLjEUSvqDQ",
        "outputId": "69840c38-0147-444d-df7c-a9a210c25fb5"
      },
      "outputs": [
        {
          "name": "stdout",
          "output_type": "stream",
          "text": [
            "Evaluating RMSE, MAE of algorithm SVD on 5 split(s).\n",
            "\n",
            "                  Fold 1  Fold 2  Fold 3  Fold 4  Fold 5  Mean    Std     \n",
            "RMSE (testset)    0.6304  0.6467  0.6368  0.6374  0.6412  0.6385  0.0054  \n",
            "MAE (testset)     0.5516  0.5597  0.5545  0.5538  0.5553  0.5550  0.0027  \n",
            "Fit time          1.52    2.00    1.52    1.28    1.34    1.53    0.25    \n",
            "Test time         0.15    0.19    0.17    0.21    0.19    0.18    0.02    \n"
          ]
        },
        {
          "data": {
            "text/plain": [
              "{'test_rmse': array([0.63042628, 0.64673537, 0.63681204, 0.63740409, 0.64118978]),\n",
              " 'test_mae': array([0.55158558, 0.55973372, 0.55452148, 0.55383649, 0.55529405]),\n",
              " 'fit_time': (1.5180845260620117,\n",
              "  1.9985637664794922,\n",
              "  1.5179009437561035,\n",
              "  1.2780039310455322,\n",
              "  1.3409936428070068),\n",
              " 'test_time': (0.14581942558288574,\n",
              "  0.18935847282409668,\n",
              "  0.1746509075164795,\n",
              "  0.20516395568847656,\n",
              "  0.18511128425598145)}"
            ]
          },
          "execution_count": 7,
          "metadata": {},
          "output_type": "execute_result"
        }
      ],
      "source": [
        "# Se observa una prueba de los resultados del modelo.\n",
        "cross_validate(modelo,datos,measures=['RMSE', 'MAE'], cv=5, verbose=True)"
      ]
    },
    {
      "cell_type": "code",
      "execution_count": 8,
      "metadata": {
        "colab": {
          "base_uri": "https://localhost:8080/"
        },
        "id": "fAcX8lZD0Dz9",
        "outputId": "e022985a-6c26-4fcf-f7fb-bd4296e96206"
      },
      "outputs": [
        {
          "data": {
            "text/plain": [
              "<surprise.prediction_algorithms.matrix_factorization.SVD at 0x1d094939410>"
            ]
          },
          "execution_count": 8,
          "metadata": {},
          "output_type": "execute_result"
        }
      ],
      "source": [
        "# Se entrena el modelo de recomendación.\n",
        "entrenamiento = datos.build_full_trainset()\n",
        "modelo.fit(entrenamiento)"
      ]
    },
    {
      "cell_type": "code",
      "execution_count": 9,
      "metadata": {
        "id": "KjKg9O-x6JYY"
      },
      "outputs": [],
      "source": [
        "# Se guarda el modelo en un archivo para poder usarlo posteriormente\n",
        "dump.dump(\"../Data/modelo/modelo_entrenado.pkl\",algo=modelo)"
      ]
    },
    {
      "cell_type": "code",
      "execution_count": 10,
      "metadata": {
        "id": "PXqwBGo468tp"
      },
      "outputs": [],
      "source": [
        "# Se revisa que el modelo cargue adecuadamente.\n",
        "modelo = dump.load(\"../Data/modelo/modelo_entrenado.pkl\")[1]"
      ]
    },
    {
      "cell_type": "code",
      "execution_count": 30,
      "metadata": {
        "id": "sjeMvLCQzlxF"
      },
      "outputs": [],
      "source": [
        "# Se crea una primera prueba para obtener las recomendaciones.\n",
        "def recomendacion_usuario(user_id:str):\n",
        "    try:\n",
        "        model = modelo\n",
        "        # Se obtienen todos los ítems que el usuario no ha calificado.\n",
        "        items_unrated = [item for item in entrenamiento.all_items() if item not in entrenamiento.ur[user_id]]\n",
        "\n",
        "        # Se hacen predicciones para los ítems no calificados por el usuario.\n",
        "        predictions = [model.predict(user_id, item) for item in items_unrated]\n",
        "\n",
        "        # Se ordenan las predicciones en orden descendente de calificación\n",
        "        predictions.sort(key=lambda x: x.est, reverse=True)\n",
        "\n",
        "        # Se obtienen las mejores 5 recomendaciones\n",
        "        top_n = predictions[:5]\n",
        "\n",
        "        # Se obtienen los ID de los juegos para cada una de las recomendaciones.\n",
        "        ids_items = [prediccion.iid for prediccion in top_n]\n",
        "\n",
        "        # Se instancia la respuesta, devolviendo el ID y el nombre del juego para cada una de las recomendaciones.\n",
        "        resultado = {\n",
        "        \"item 1\":{\"id_item\":ids_items[0],\"game name\":games.loc[games[\"id\"] == ids_items[0],\"app_name\"].iloc[0]},\n",
        "        \"item 2\":{\"id_item\":ids_items[1],\"game name\":games.loc[games[\"id\"] == ids_items[1],\"app_name\"].iloc[0]},\n",
        "        \"item 3\":{\"id_item\":ids_items[2],\"game name\":games.loc[games[\"id\"] == ids_items[2],\"app_name\"].iloc[0]},\n",
        "        \"item 4\":{\"id_item\":ids_items[3],\"game name\":games.loc[games[\"id\"] == ids_items[3],\"app_name\"].iloc[0]},\n",
        "        \"item 5\":{\"id_item\":ids_items[4],\"game name\":games.loc[games[\"id\"] == ids_items[4],\"app_name\"].iloc[0]},\n",
        "        }\n",
        "        return resultado\n",
        "    # Se crea una excepción para los casos en donde no se encuentre al id del usuario en la base de datos.\n",
        "    except Exception:\n",
        "        return {\"No se encontraron datos para el usuario especificado\"}"
      ]
    },
    {
      "cell_type": "code",
      "execution_count": 29,
      "metadata": {
        "colab": {
          "base_uri": "https://localhost:8080/"
        },
        "id": "UzqbJMky0W3N",
        "outputId": "a8392905-eec0-4fce-feca-4975a6a13101"
      },
      "outputs": [
        {
          "data": {
            "text/plain": [
              "{'item 1': {'id_item': 2200, 'game name': 'Quake III Arena'},\n",
              " 'item 2': {'id_item': 630, 'game name': 'Alien Swarm'},\n",
              " 'item 3': {'id_item': 300, 'game name': 'Day of Defeat: Source'},\n",
              " 'item 4': {'id_item': 2600,\n",
              "  'game name': 'Vampire: The Masquerade - Bloodlines'},\n",
              " 'item 5': {'id_item': 10, 'game name': 'Counter-Strike'}}"
            ]
          },
          "execution_count": 29,
          "metadata": {},
          "output_type": "execute_result"
        }
      ],
      "source": [
        "# Se prueba la función.\n",
        "recomendacion_usuario(\"js41637\")"
      ]
    },
    {
      "cell_type": "code",
      "execution_count": 31,
      "metadata": {
        "id": "YCiZgRvj5zCL"
      },
      "outputs": [
        {
          "data": {
            "text/plain": [
              "{'item 1': {'id_item': 300, 'game name': 'Day of Defeat: Source'},\n",
              " 'item 2': {'id_item': 2270, 'game name': 'Wolfenstein 3D'},\n",
              " 'item 3': {'id_item': 280, 'game name': 'Half-Life: Source'},\n",
              " 'item 4': {'id_item': 630, 'game name': 'Alien Swarm'},\n",
              " 'item 5': {'id_item': 440, 'game name': 'Team Fortress 2'}}"
            ]
          },
          "execution_count": 31,
          "metadata": {},
          "output_type": "execute_result"
        }
      ],
      "source": [
        "# Se prueba la función.\n",
        "recomendacion_usuario(\"evcentric\")"
      ]
    },
    {
      "cell_type": "code",
      "execution_count": 32,
      "metadata": {},
      "outputs": [
        {
          "data": {
            "text/plain": [
              "{'item 1': {'id_item': 630, 'game name': 'Alien Swarm'},\n",
              " 'item 2': {'id_item': 2500, 'game name': 'Shadowgrounds'},\n",
              " 'item 3': {'id_item': 2300, 'game name': 'DOOM II'},\n",
              " 'item 4': {'id_item': 2700, 'game name': 'RollerCoaster Tycoon® 3: Platinum'},\n",
              " 'item 5': {'id_item': 40, 'game name': 'Deathmatch Classic'}}"
            ]
          },
          "execution_count": 32,
          "metadata": {},
          "output_type": "execute_result"
        }
      ],
      "source": [
        "# Se prueba la función.\n",
        "recomendacion_usuario(\"76561198312638244\")"
      ]
    },
    {
      "cell_type": "code",
      "execution_count": 33,
      "metadata": {},
      "outputs": [
        {
          "data": {
            "text/plain": [
              "{'item 1': {'id_item': 620, 'game name': 'Portal 2'},\n",
              " 'item 2': {'id_item': 300, 'game name': 'Day of Defeat: Source'},\n",
              " 'item 3': {'id_item': 10, 'game name': 'Counter-Strike'},\n",
              " 'item 4': {'id_item': 630, 'game name': 'Alien Swarm'},\n",
              " 'item 5': {'id_item': 440, 'game name': 'Team Fortress 2'}}"
            ]
          },
          "execution_count": 33,
          "metadata": {},
          "output_type": "execute_result"
        }
      ],
      "source": [
        "# Se prueba la función.\n",
        "recomendacion_usuario(\"3215\")"
      ]
    },
    {
      "cell_type": "code",
      "execution_count": 36,
      "metadata": {},
      "outputs": [
        {
          "data": {
            "text/plain": [
              "{'item 1': {'id_item': 620, 'game name': 'Portal 2'},\n",
              " 'item 2': {'id_item': 300, 'game name': 'Day of Defeat: Source'},\n",
              " 'item 3': {'id_item': 10, 'game name': 'Counter-Strike'},\n",
              " 'item 4': {'id_item': 630, 'game name': 'Alien Swarm'},\n",
              " 'item 5': {'id_item': 440, 'game name': 'Team Fortress 2'}}"
            ]
          },
          "execution_count": 36,
          "metadata": {},
          "output_type": "execute_result"
        }
      ],
      "source": [
        "# Se prueba la función.\n",
        "recomendacion_usuario(\"A\")"
      ]
    }
  ],
  "metadata": {
    "colab": {
      "provenance": []
    },
    "kernelspec": {
      "display_name": "Python 3",
      "language": "python",
      "name": "python3"
    },
    "language_info": {
      "codemirror_mode": {
        "name": "ipython",
        "version": 3
      },
      "file_extension": ".py",
      "mimetype": "text/x-python",
      "name": "python",
      "nbconvert_exporter": "python",
      "pygments_lexer": "ipython3",
      "version": "3.11.8"
    }
  },
  "nbformat": 4,
  "nbformat_minor": 0
}
